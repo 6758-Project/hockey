{
 "cells": [
  {
   "cell_type": "markdown",
   "metadata": {},
   "source": [
    "# Initializing Dash for visualization"
   ]
  },
  {
   "cell_type": "markdown",
   "metadata": {},
   "source": [
    "## imports"
   ]
  },
  {
   "cell_type": "code",
   "execution_count": 1,
   "metadata": {},
   "outputs": [],
   "source": [
    "import os\n",
    "import sys\n",
    "sys.path.insert(0,'../..')\n",
    "\n",
    "import pandas as pd\n",
    "from PIL import Image\n",
    "from jupyter_dash import JupyterDash\n",
    "import dash\n",
    "from dash import dcc\n",
    "from dash import html\n",
    "from dash.dependencies import Input, Output\n",
    "import plotly.graph_objects as go\n",
    "import plotly.express as px\n",
    "from hockey.src.data.team_data import  get_all_teams\n",
    "\n",
    "\n",
    "teams_lst = get_all_teams(data_dir=\"../data/raw\")\n",
    "years = [2016, 2017, 2018, 2019, 2020]"
   ]
  },
  {
   "cell_type": "markdown",
   "metadata": {
    "tags": []
   },
   "source": [
    "## Adding the graph, slider and two dropdown lists \n",
    "for the NHL rink, year, team and season respectively"
   ]
  },
  {
   "cell_type": "code",
   "execution_count": 2,
   "metadata": {},
   "outputs": [],
   "source": [
    "external_stylesheets = ['https://codepen.io/chriddyp/pen/bWLwgP.css']\n",
    "app = JupyterDash(__name__, external_stylesheets=external_stylesheets)\n",
    "\n",
    "app.layout = html.Div([\n",
    "    \n",
    "    html.Div([\n",
    "        \"Team: \",\n",
    "        dcc.Dropdown(\n",
    "                    id='teams-dropdown',\n",
    "                    options=[{'label': i, 'value': i} for i in teams_lst],\n",
    "                    value=teams_lst[0]\n",
    "                ),\n",
    "        \"Season: \",\n",
    "        dcc.Dropdown(\n",
    "                    id='seasons-dropdown',\n",
    "                    options=[{'label': i, 'value': i} for i in ['regular', 'postseason']],\n",
    "                    value='regular'\n",
    "                ),\n",
    "        ],\n",
    "        style={'width': '49%', 'display': 'inline-block'}),\n",
    "    \n",
    "    html.Div([\n",
    "        dcc.Graph(id='nhl-rink-graph'),\n",
    "        dcc.Slider(\n",
    "            id='year-slider',\n",
    "            min=years[0],\n",
    "            max=years[-1],\n",
    "            value=years[0],\n",
    "            marks={str(year): str(year) for year in years},\n",
    "            step=None\n",
    "        )\n",
    "    ])\n",
    "])"
   ]
  },
  {
   "cell_type": "markdown",
   "metadata": {},
   "source": [
    "## Visualizing the shots for a given team, year and season"
   ]
  },
  {
   "cell_type": "code",
   "execution_count": 3,
   "metadata": {},
   "outputs": [],
   "source": [
    "teams_data_dir = \"../data/teams\""
   ]
  },
  {
   "cell_type": "code",
   "execution_count": 4,
   "metadata": {},
   "outputs": [],
   "source": [
    "def flip_coord_to_one_side(team_df):\n",
    "    for idx, event_row in team_df.iterrows():\n",
    "        if event_row['coordinate_x'] < 0:\n",
    "            team_df.at[idx,'coordinate_x']= event_row['coordinate_x'] * -1\n",
    "            team_df.at[idx,'coordinate_y']= event_row['coordinate_y'] * -1"
   ]
  },
  {
   "cell_type": "code",
   "execution_count": 5,
   "metadata": {},
   "outputs": [
    {
     "name": "stdout",
     "output_type": "stream",
     "text": [
      "Dash app running on http://127.0.0.1:8050/\n"
     ]
    }
   ],
   "source": [
    "@app.callback(\n",
    "    Output('nhl-rink-graph', 'figure'),\n",
    "    [Input('year-slider', 'value'),\n",
    "     Input('teams-dropdown', 'value'),\n",
    "     Input('seasons-dropdown', 'value')])\n",
    "def update_figure(selected_year, selected_team, selected_season):\n",
    "    img = Image.open('../figures/nhl_rink.png')\n",
    "    \n",
    "    # get the dataframe of the chosen team\n",
    "    team_df = pd.read_csv(os.path.join(teams_data_dir, selected_team+'.csv'))\n",
    "    \n",
    "    # and the chosen year\n",
    "    team_df = team_df.loc[team_df['year'] == selected_year]\n",
    "    \n",
    "    # and the chosen season\n",
    "    team_df = team_df.loc[team_df['season'] == selected_season]\n",
    "    \n",
    "    # Flip all the coordinates to the same side\n",
    "    flip_coord_to_one_side(team_df)\n",
    "    \n",
    "    fig = px.scatter(team_df, x=\"coordinate_x\", y=\"coordinate_y\", color=\"shooter_name\") #,\n",
    "                     #size=\"pop\", color=\"continent\", hover_name=\"country\")\n",
    "\n",
    "    \n",
    "    # set the axes\n",
    "    fig.update_yaxes(range=[-45, 45], \n",
    "                     scaleratio = 1, \n",
    "                     scaleanchor=\"y\",\n",
    "                     showgrid=True,\n",
    "                     zeroline=True,\n",
    "                     showline=True,\n",
    "                     gridcolor='#bdbdbd',\n",
    "                     gridwidth=2,\n",
    "                     zerolinecolor='#969696',\n",
    "                     zerolinewidth=4,\n",
    "                     linecolor='#636363',\n",
    "                     linewidth=6)\n",
    "    fig.update_xaxes(range=[-100, 100], \n",
    "                     scaleratio = 1, \n",
    "                     scaleanchor=\"x\",\n",
    "                     showgrid=True,\n",
    "                     zeroline=True,\n",
    "                     showline=True,\n",
    "                     gridcolor='#bdbdbd',\n",
    "                     gridwidth=2,\n",
    "                     zerolinecolor='#969696',\n",
    "                     zerolinewidth=4,\n",
    "                     linecolor='#636363',\n",
    "                     linewidth=6)\n",
    "\n",
    "    # remove any margins and padding\n",
    "    fig.update_layout(\n",
    "        autosize=False,\n",
    "        width=1000,\n",
    "        height=500,\n",
    "        margin=dict(l=0, #left margin\n",
    "                    r=0, #right margin\n",
    "                    b=0, #bottom margin\n",
    "                    t=0,  #top margin\n",
    "                    pad=0\n",
    "                   )\n",
    "    )\n",
    "\n",
    "\n",
    "    # Add the NHL rink image\n",
    "    fig.add_layout_image(\n",
    "            dict(\n",
    "                source=img,\n",
    "                xref=\"x\",\n",
    "                yref=\"y\",\n",
    "                x=0,\n",
    "                y=0,\n",
    "                sizex=200,\n",
    "                sizey=85,\n",
    "                sizing= \"stretch\",\n",
    "                layer = \"below\",\n",
    "                xanchor = \"center\",\n",
    "                yanchor = \"middle\",\n",
    "                opacity = 0.8),\n",
    "    )\n",
    "\n",
    "    return fig    \n",
    "\n",
    "app.run_server()"
   ]
  }
 ],
 "metadata": {
  "kernelspec": {
   "display_name": "ift6758-conda-env",
   "language": "python",
   "name": "ift6758-conda-env"
  },
  "language_info": {
   "codemirror_mode": {
    "name": "ipython",
    "version": 3
   },
   "file_extension": ".py",
   "mimetype": "text/x-python",
   "name": "python",
   "nbconvert_exporter": "python",
   "pygments_lexer": "ipython3",
   "version": "3.7.3"
  }
 },
 "nbformat": 4,
 "nbformat_minor": 4
}
