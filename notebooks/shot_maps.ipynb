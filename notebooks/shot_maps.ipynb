{
 "cells": [
  {
   "cell_type": "markdown",
   "metadata": {},
   "source": [
    "# Initializing Dash for visualization"
   ]
  },
  {
   "cell_type": "markdown",
   "metadata": {},
   "source": [
    "## imports"
   ]
  },
  {
   "cell_type": "code",
   "execution_count": 1,
   "metadata": {},
   "outputs": [],
   "source": [
    "import os\n",
    "import sys\n",
    "import pandas as pd\n",
    "from PIL import Image\n",
    "from jupyter_dash import JupyterDash\n",
    "import dash\n",
    "from dash import dcc\n",
    "from dash import html\n",
    "from dash.dependencies import Input, Output\n",
    "import plotly.graph_objects as go\n",
    "import plotly.express as px\n",
    "import csv "
   ]
  },
  {
   "cell_type": "markdown",
   "metadata": {},
   "source": [
    "## get all the teams"
   ]
  },
  {
   "cell_type": "code",
   "execution_count": 5,
   "metadata": {},
   "outputs": [],
   "source": [
    "sys.path.insert(0,'../src/data/')\n",
    "from team_data import  get_all_teams \n",
    "\n",
    "seasons = [2016, 2017, 2018, 2019, 2020]    \n",
    "\n",
    "fname = \"../data/NHL_Teams_List.csv\"\n",
    "if os.path.isfile(fname):\n",
    "    teams_lst_df=pd.read_csv(fname)\n",
    "    teams_lst = teams_lst_df['Teams'].values.tolist()\n",
    "else:\n",
    "    teams_lst = get_all_teams(data_dir=\"../data/raw\")\n",
    "    teams_lst_df = pd.DataFrame(teams_lst,columns =['Teams'])\n",
    "    teams_lst_df.to_csv(fname)\n",
    "    \n",
    "\n"
   ]
  },
  {
   "cell_type": "markdown",
   "metadata": {
    "tags": []
   },
   "source": [
    "## Adding the graph, slider and two dropdown lists \n",
    "for the NHL rink, year, team and season respectively"
   ]
  },
  {
   "cell_type": "code",
   "execution_count": 6,
   "metadata": {},
   "outputs": [],
   "source": [
    "external_stylesheets = ['https://codepen.io/chriddyp/pen/bWLwgP.css']\n",
    "app = JupyterDash(__name__, external_stylesheets=external_stylesheets)\n",
    "\n",
    "app.layout = html.Div([\n",
    "    \n",
    "    html.Div([\n",
    "        \"Team: \",\n",
    "        dcc.Dropdown(\n",
    "                    id='teams-dropdown',\n",
    "                    options=[{'label': i, 'value': i} for i in teams_lst],\n",
    "                    value=teams_lst[0]\n",
    "                ),\n",
    "        \"Season: \",\n",
    "        dcc.Dropdown(\n",
    "                    id='seasons-dropdown',\n",
    "                    options=[{'label': i, 'value': str(i)} for i in seasons],\n",
    "                    value=seasons[0]\n",
    "                ),\n",
    "        \"Sub-season: \",\n",
    "        dcc.Dropdown(\n",
    "                    id='sub-seasons-dropdown',\n",
    "                    options=[{'label': i, 'value': i} for i in ['regular', 'postseason']],\n",
    "                    value='regular'\n",
    "                ),\n",
    "        ],\n",
    "        style={'width': '49%', 'display': 'inline-block'}),\n",
    "    \n",
    "    html.Div([\n",
    "        dcc.Graph(id='nhl-rink-graph'),\n",
    "    ])\n",
    "])"
   ]
  },
  {
   "cell_type": "markdown",
   "metadata": {},
   "source": [
    "## Visualizing the shots for a given team, year and season"
   ]
  },
  {
   "cell_type": "code",
   "execution_count": 7,
   "metadata": {},
   "outputs": [],
   "source": [
    "game_data_dir = \"../data/games/\""
   ]
  },
  {
   "cell_type": "code",
   "execution_count": 8,
   "metadata": {},
   "outputs": [],
   "source": [
    "def flip_coord_to_one_side(team_df):\n",
    "    for idx, event_row in team_df.iterrows():\n",
    "        if event_row['coordinate_x'] < 0:\n",
    "            team_df.at[idx,'coordinate_x']= event_row['coordinate_x'] * -1\n",
    "            team_df.at[idx,'coordinate_y']= event_row['coordinate_y'] * -1"
   ]
  },
  {
   "cell_type": "code",
   "execution_count": 9,
   "metadata": {},
   "outputs": [
    {
     "name": "stdout",
     "output_type": "stream",
     "text": [
      "Dash app running on http://127.0.0.1:8050/\n"
     ]
    }
   ],
   "source": [
    "@app.callback(\n",
    "    Output('nhl-rink-graph', 'figure'),\n",
    "    [Input('seasons-dropdown', 'value'),\n",
    "     Input('teams-dropdown', 'value'),\n",
    "     Input('sub-seasons-dropdown', 'value')])\n",
    "def update_figure(selected_season, selected_team, selected_sub_season):\n",
    "    img = Image.open('../figures/nhl_rink.png')\n",
    "    \n",
    "    # get the dataframe of the chosen team\n",
    "    if selected_sub_season == 'regular':\n",
    "        sub_str = '02'\n",
    "    elif selected_sub_season == 'postseason':\n",
    "        sub_str = '03'\n",
    "\n",
    "    game_file_str = str(selected_season) + '-' + selected_sub_season + '.csv'\n",
    "    game_df = pd.read_csv(os.path.join(game_data_dir, game_file_str))\n",
    "    \n",
    "    # team's data\n",
    "    team_df = game_df[game_df['shooter_team_name'] == selected_team]\n",
    "    team_df = team_df[team_df['home_team'] == selected_team]\n",
    "    # for debugging\n",
    "    # team_df = team_df[team_df['period'] == selected_period]\n",
    "\n",
    "    \n",
    "    fig = px.scatter(team_df, x=\"coordinate_x\", y=\"coordinate_y\", color=\"shooter_name\")\n",
    "\n",
    "    \n",
    "    fig.update_traces(marker=dict(size=12,\n",
    "                              line=dict(width=2,)),\n",
    "                  selector=dict(mode='markers'))\n",
    "    \n",
    "    # set the axes\n",
    "    fig.update_yaxes(range=[-45, 45], \n",
    "                     scaleratio = 1, \n",
    "                     scaleanchor=\"y\",\n",
    "                     showgrid=True,\n",
    "                     zeroline=True,\n",
    "                     showline=True,\n",
    "                     gridcolor='#bdbdbd',\n",
    "                     gridwidth=2,\n",
    "                     zerolinecolor='#969696',\n",
    "                     zerolinewidth=4,\n",
    "                     linecolor='#636363',\n",
    "                     linewidth=6)\n",
    "    fig.update_xaxes(range=[-100, 100], \n",
    "                     scaleratio = 1, \n",
    "                     scaleanchor=\"x\",\n",
    "                     showgrid=True,\n",
    "                     zeroline=True,\n",
    "                     showline=True,\n",
    "                     gridcolor='#bdbdbd',\n",
    "                     gridwidth=2,\n",
    "                     zerolinecolor='#969696',\n",
    "                     zerolinewidth=4,\n",
    "                     linecolor='#636363',\n",
    "                     linewidth=6)\n",
    "\n",
    "    # remove any margins and padding\n",
    "    fig.update_layout(\n",
    "        autosize=False,\n",
    "        width=1000,\n",
    "        height=500,\n",
    "        margin=dict(l=0, #left margin\n",
    "                    r=0, #right margin\n",
    "                    b=0, #bottom margin\n",
    "                    t=0,  #top margin\n",
    "                    pad=0\n",
    "                   )\n",
    "    )\n",
    "\n",
    "\n",
    "    # Add the NHL rink image\n",
    "    fig.add_layout_image(\n",
    "            dict(\n",
    "                source=img,\n",
    "                xref=\"x\",\n",
    "                yref=\"y\",\n",
    "                x=0,\n",
    "                y=0,\n",
    "                sizex=200,\n",
    "                sizey=85,\n",
    "                sizing= \"stretch\",\n",
    "                layer = \"below\",\n",
    "                xanchor = \"center\",\n",
    "                yanchor = \"middle\",\n",
    "                opacity = 0.8),\n",
    "    )\n",
    "\n",
    "    return fig    \n",
    "\n",
    "app.run_server()"
   ]
  },
  {
   "cell_type": "code",
   "execution_count": null,
   "metadata": {},
   "outputs": [],
   "source": []
  }
 ],
 "metadata": {
  "kernelspec": {
   "display_name": "ift6758-conda-env",
   "language": "python",
   "name": "ift6758-conda-env"
  },
  "language_info": {
   "codemirror_mode": {
    "name": "ipython",
    "version": 3
   },
   "file_extension": ".py",
   "mimetype": "text/x-python",
   "name": "python",
   "nbconvert_exporter": "python",
   "pygments_lexer": "ipython3",
   "version": "3.9.7"
  }
 },
 "nbformat": 4,
 "nbformat_minor": 4
}
