{
 "cells": [
  {
   "cell_type": "code",
   "execution_count": 1,
   "id": "cd4437a2-c1ee-4e63-a41f-288917562e26",
   "metadata": {},
   "outputs": [],
   "source": [
    "import os\n",
    "import sys\n",
    "import matplotlib.pyplot as plt\n",
    "import seaborn as sns\n",
    "import numpy as np\n",
    "import pandas as pd\n",
    "sys.path.insert(0,'../ift6758')\n",
    "\n",
    "from data import get_player_stats\n"
   ]
  },
  {
   "cell_type": "code",
   "execution_count": 2,
   "id": "973bec78-e79a-459d-bc23-10acc5b7d7f2",
   "metadata": {},
   "outputs": [
    {
     "name": "stdout",
     "output_type": "stream",
     "text": [
      "Retrieving data from 'https://www.hockey-reference.com/leagues/NHL_2017_goalies.html'...\n"
     ]
    }
   ],
   "source": [
    "# Get data\n",
    "DataFrameAll = get_player_stats(2017, 'goalies')"
   ]
  },
  {
   "cell_type": "code",
   "execution_count": 3,
   "id": "6eb1cca2-a70b-4bac-bf83-e92a4b65db96",
   "metadata": {},
   "outputs": [
    {
     "name": "stdout",
     "output_type": "stream",
     "text": [
      "Created Directry\n",
      "Data saved\n"
     ]
    }
   ],
   "source": [
    "\n",
    "def Save_DataFrame(Data,FileName:str=\"GoalieData\",DirFd:str=\"data/WarmUp\"):\n",
    "    # Save the data frame in csv format, create directories if they do not exist\n",
    "    \n",
    "    if os.path.isdir(DirFd) == 0:\n",
    "        os.makedirs(DirFd)\n",
    "        print(\"Created Directry\")\n",
    "    if os.path.isfile(f\"{DirFd}/{FileName}\") == 0:\n",
    "        Data.to_csv(f\"{DirFd}/{FileName}\")\n",
    "    else:\n",
    "        return print(\"File exist\")\n",
    "    return print(\"Data saved\")\n",
    "        \n",
    "\n",
    "Save_DataFrame(DataFrameAll)"
   ]
  },
  {
   "cell_type": "code",
   "execution_count": 4,
   "id": "11dd38dc-0781-47d6-a56d-fcd36ced376c",
   "metadata": {},
   "outputs": [],
   "source": [
    "def Splice_DataFrame(DataFrameLarge, Col=[\"SV%\"]):\n",
    "    # Reduce the size of the data frame by keeping the selected columns\n",
    "    DataFrameSmall = DataFrameLarge[Col]   \n",
    "    return DataFrameSmall\n",
    "\n",
    "\n",
    "\n",
    "DataFrameFilt = Splice_DataFrame(DataFrameAll,['Player','GP','GA','SA','SV%','MIN'])"
   ]
  },
  {
   "cell_type": "code",
   "execution_count": 5,
   "id": "3ad19a68-e541-415b-b0a5-fa2be5dd1d20",
   "metadata": {},
   "outputs": [
    {
     "data": {
      "text/html": [
       "<div>\n",
       "<style scoped>\n",
       "    .dataframe tbody tr th:only-of-type {\n",
       "        vertical-align: middle;\n",
       "    }\n",
       "\n",
       "    .dataframe tbody tr th {\n",
       "        vertical-align: top;\n",
       "    }\n",
       "\n",
       "    .dataframe thead th {\n",
       "        text-align: right;\n",
       "    }\n",
       "</style>\n",
       "<table border=\"1\" class=\"dataframe\">\n",
       "  <thead>\n",
       "    <tr style=\"text-align: right;\">\n",
       "      <th></th>\n",
       "      <th>Player</th>\n",
       "      <th>GP</th>\n",
       "      <th>GA</th>\n",
       "      <th>SA</th>\n",
       "      <th>SV%</th>\n",
       "      <th>MIN</th>\n",
       "    </tr>\n",
       "  </thead>\n",
       "  <tbody>\n",
       "    <tr>\n",
       "      <th>63</th>\n",
       "      <td>Alex Nedeljkovic</td>\n",
       "      <td>1</td>\n",
       "      <td>0</td>\n",
       "      <td>17</td>\n",
       "      <td>1.000</td>\n",
       "      <td>30</td>\n",
       "    </tr>\n",
       "    <tr>\n",
       "      <th>85</th>\n",
       "      <td>Dustin Tokarski</td>\n",
       "      <td>1</td>\n",
       "      <td>0</td>\n",
       "      <td>5</td>\n",
       "      <td>1.000</td>\n",
       "      <td>10</td>\n",
       "    </tr>\n",
       "    <tr>\n",
       "      <th>11</th>\n",
       "      <td>Jack Campbell</td>\n",
       "      <td>1</td>\n",
       "      <td>0</td>\n",
       "      <td>5</td>\n",
       "      <td>1.000</td>\n",
       "      <td>20</td>\n",
       "    </tr>\n",
       "    <tr>\n",
       "      <th>29</th>\n",
       "      <td>Kristers Gudlevskis</td>\n",
       "      <td>1</td>\n",
       "      <td>0</td>\n",
       "      <td>3</td>\n",
       "      <td>1.000</td>\n",
       "      <td>11</td>\n",
       "    </tr>\n",
       "    <tr>\n",
       "      <th>26</th>\n",
       "      <td>Jon Gillies</td>\n",
       "      <td>1</td>\n",
       "      <td>1</td>\n",
       "      <td>28</td>\n",
       "      <td>.964</td>\n",
       "      <td>60</td>\n",
       "    </tr>\n",
       "    <tr>\n",
       "      <th>...</th>\n",
       "      <td>...</td>\n",
       "      <td>...</td>\n",
       "      <td>...</td>\n",
       "      <td>...</td>\n",
       "      <td>...</td>\n",
       "      <td>...</td>\n",
       "    </tr>\n",
       "    <tr>\n",
       "      <th>32</th>\n",
       "      <td>Andrew Hammond</td>\n",
       "      <td>6</td>\n",
       "      <td>14</td>\n",
       "      <td>86</td>\n",
       "      <td>.837</td>\n",
       "      <td>206</td>\n",
       "    </tr>\n",
       "    <tr>\n",
       "      <th>13</th>\n",
       "      <td>Pheonix Copley</td>\n",
       "      <td>1</td>\n",
       "      <td>5</td>\n",
       "      <td>29</td>\n",
       "      <td>.828</td>\n",
       "      <td>59</td>\n",
       "    </tr>\n",
       "    <tr>\n",
       "      <th>83</th>\n",
       "      <td>Malcolm Subban</td>\n",
       "      <td>1</td>\n",
       "      <td>3</td>\n",
       "      <td>16</td>\n",
       "      <td>.813</td>\n",
       "      <td>31</td>\n",
       "    </tr>\n",
       "    <tr>\n",
       "      <th>19</th>\n",
       "      <td>Chris Driedger</td>\n",
       "      <td>1</td>\n",
       "      <td>4</td>\n",
       "      <td>15</td>\n",
       "      <td>.733</td>\n",
       "      <td>40</td>\n",
       "    </tr>\n",
       "    <tr>\n",
       "      <th>1</th>\n",
       "      <td>Jorge Alves</td>\n",
       "      <td>1</td>\n",
       "      <td>0</td>\n",
       "      <td>0</td>\n",
       "      <td>NaN</td>\n",
       "      <td>0</td>\n",
       "    </tr>\n",
       "  </tbody>\n",
       "</table>\n",
       "<p>95 rows × 6 columns</p>\n",
       "</div>"
      ],
      "text/plain": [
       "                 Player GP  GA  SA    SV%  MIN\n",
       "63     Alex Nedeljkovic  1   0  17  1.000   30\n",
       "85      Dustin Tokarski  1   0   5  1.000   10\n",
       "11        Jack Campbell  1   0   5  1.000   20\n",
       "29  Kristers Gudlevskis  1   0   3  1.000   11\n",
       "26          Jon Gillies  1   1  28   .964   60\n",
       "..                  ... ..  ..  ..    ...  ...\n",
       "32       Andrew Hammond  6  14  86   .837  206\n",
       "13       Pheonix Copley  1   5  29   .828   59\n",
       "83       Malcolm Subban  1   3  16   .813   31\n",
       "19       Chris Driedger  1   4  15   .733   40\n",
       "1           Jorge Alves  1   0   0    NaN    0\n",
       "\n",
       "[95 rows x 6 columns]"
      ]
     },
     "execution_count": 5,
     "metadata": {},
     "output_type": "execute_result"
    }
   ],
   "source": [
    "DataFrameFilt.sort_values(\"SV%\", ascending=False)"
   ]
  },
  {
   "cell_type": "code",
   "execution_count": 6,
   "id": "011ba837-b27e-4861-a40d-93f47efd443b",
   "metadata": {},
   "outputs": [],
   "source": [
    "def RemoveLowMinPlayers(DataFrame,Min):\n",
    "    # Remove players with less than 300 minutes game time.\n",
    "    DataFrame = DataFrame.loc[(pd.to_numeric(DataFrame[\"MIN\"])>Min)]    \n",
    "    return DataFrame\n",
    "\n",
    "NewDataFrame = RemoveLowMinPlayers(DataFrameFilt,300)"
   ]
  },
  {
   "cell_type": "code",
   "execution_count": 7,
   "id": "ff1089f9-231c-47b6-a095-7e015510fa40",
   "metadata": {},
   "outputs": [
    {
     "name": "stdout",
     "output_type": "stream",
     "text": [
      "Save plot as data/WarmUp/Goalie Performance Ranking.jpg\n"
     ]
    },
    {
     "data": {
      "image/png": "[encoded data removed]",
      "text/plain": [
       "<Figure size 576x360 with 1 Axes>"
      ]
     },
     "metadata": {
      "needs_background": "light"
     },
     "output_type": "display_data"
    }
   ],
   "source": [
    "def PlotBar(DataFrame, Row:str=\"SV%\", Col:str=\"Player\", Count:int=20, xlab:str=\"Safe Value\",ylab:str=\"Player Name\",Tit:str=\"Goalie Performance Ranking\", DirFd:str=\"data/WarmUp\"):\n",
    "    # Plot two of the data frame columns on a horizontal bar chart, descending sort automatically\n",
    "    \n",
    "    Plot_Data = DataFrame[[Col,Row]].sort_values(Row, ascending=False)\n",
    "    Plot_Data[Row] = Plot_Data[Row].astype('float')\n",
    "    #Plot_Data[[Col]] = pd.to_numeric(Plot_Data[Col])\n",
    "    #Plot_Data[[Row]] = pd.to_numeric(Plot_Data[Row])\n",
    "    \n",
    "    f, ax = plt.subplots(figsize=(8, 5))\n",
    "\n",
    "    sns.barplot(x=Row, y=Col, data=Plot_Data[0:Count],\n",
    "                color=\"b\")\n",
    "\n",
    "    sns.despine(left=True, bottom=True)\n",
    "    ax.set(title=Tit,ylabel=ylab,\n",
    "           xlabel=xlab,xscale =\"log\")\n",
    "    \n",
    "    print('Save plot as ' + DirFd+\"/\"+Tit+'.jpg')\n",
    "    plt.savefig(DirFd+\"/\"+Tit+'.jpg', bbox_inches = \"tight\")\n",
    "    \n",
    "    return None\n",
    "\n",
    "\n",
    "PlotBar(NewDataFrame)"
   ]
  },
  {
   "cell_type": "code",
   "execution_count": null,
   "id": "d14fbd93-b9b3-4b17-91fb-5a74e9c5380f",
   "metadata": {},
   "outputs": [],
   "source": []
  }
 ],
 "metadata": {
  "kernelspec": {
   "display_name": "ift6758-conda-env",
   "language": "python",
   "name": "ift6758-conda-env"
  },
  "language_info": {
   "codemirror_mode": {
    "name": "ipython",
    "version": 3
   },
   "file_extension": ".py",
   "mimetype": "text/x-python",
   "name": "python",
   "nbconvert_exporter": "python",
   "pygments_lexer": "ipython3",
   "version": "3.9.7"
  }
 },
 "nbformat": 4,
 "nbformat_minor": 5
}
