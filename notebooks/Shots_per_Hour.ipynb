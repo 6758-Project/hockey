{
 "cells": [
  {
   "cell_type": "code",
   "execution_count": 1,
   "metadata": {},
   "outputs": [],
   "source": [
    "import os\n",
    "\n",
    "import numpy as np\n",
    "import pandas as pd\n",
    "\n",
    "import matplotlib.pyplot as plt\n",
    "import seaborn as sns"
   ]
  },
  {
   "cell_type": "code",
   "execution_count": 2,
   "metadata": {},
   "outputs": [],
   "source": [
    "cleaned_data_dir = \"./data/cleaned/\""
   ]
  },
  {
   "cell_type": "code",
   "execution_count": 3,
   "metadata": {},
   "outputs": [
    {
     "name": "stdout",
     "output_type": "stream",
     "text": [
      "/home/jake/Projects/mila/6758/hockey\n"
     ]
    }
   ],
   "source": [
    "cd .."
   ]
  },
  {
   "cell_type": "code",
   "execution_count": 4,
   "metadata": {},
   "outputs": [
    {
     "data": {
      "text/plain": [
       "(385076, 29)"
      ]
     },
     "execution_count": 4,
     "metadata": {},
     "output_type": "execute_result"
    }
   ],
   "source": [
    "team_files = os.listdir(cleaned_data_dir)\n",
    "\n",
    "plays = pd.concat([pd.read_csv(os.path.join(cleaned_data_dir, team_file)) for team_file in team_files])\n",
    "plays = plays.drop(\"Unnamed: 0\", axis=1)\n",
    "plays.shape"
   ]
  },
  {
   "cell_type": "code",
   "execution_count": 5,
   "metadata": {},
   "outputs": [],
   "source": [
    "# plays_full = plays.copy()\n",
    "# plays = plays.sample(2000)  # TODO delete"
   ]
  },
  {
   "cell_type": "code",
   "execution_count": 6,
   "metadata": {},
   "outputs": [],
   "source": [
    "plays['season'] = plays['game_id'].apply(lambda gid: int(str(gid)[:4]))\n",
    "plays['subseason'] = plays['game_id'].apply(lambda gid: int(str(gid)[4:6])).replace({2: 'regular', 3: 'playoffs'})"
   ]
  },
  {
   "cell_type": "code",
   "execution_count": 7,
   "metadata": {},
   "outputs": [],
   "source": [
    "plays = plays.rename({'shooter_team_name': 'team'}, axis=1)"
   ]
  },
  {
   "cell_type": "code",
   "execution_count": 8,
   "metadata": {},
   "outputs": [],
   "source": [
    "def game_length(events):\n",
    "    \"\"\" Calculate game length from events \"\"\"\n",
    "    last_event = events.sort_values('event_index', ascending=False).iloc[0]\n",
    "    time = last_event['time']\n",
    "    last_period = last_event['period']\n",
    "\n",
    "    time_in_minutes = int(time[:2]) + int(time[3:])/60\n",
    "    game_length = 60 if last_period <= 3 else (last_period-1)*20 + time_in_minutes\n",
    "    return game_length"
   ]
  },
  {
   "cell_type": "code",
   "execution_count": 9,
   "metadata": {},
   "outputs": [],
   "source": [
    "team_game_lengths = plays.groupby(['team','season','subseason','game_id']).apply(game_length)"
   ]
  },
  {
   "cell_type": "code",
   "execution_count": 10,
   "metadata": {},
   "outputs": [
    {
     "data": {
      "text/plain": [
       "count    12300.000000\n",
       "mean        61.842359\n",
       "std          5.553643\n",
       "min         60.000000\n",
       "50%         60.000000\n",
       "90%         63.668333\n",
       "95%         80.000000\n",
       "99%         80.000000\n",
       "max        150.450000\n",
       "dtype: float64"
      ]
     },
     "execution_count": 10,
     "metadata": {},
     "output_type": "execute_result"
    }
   ],
   "source": [
    "team_game_lengths.describe(percentiles=[.9,.95,.99])"
   ]
  },
  {
   "cell_type": "code",
   "execution_count": 11,
   "metadata": {},
   "outputs": [],
   "source": [
    "team_minutes = team_game_lengths.groupby(['team','season','subseason']).sum()\n",
    "team_minutes.name = 'Minutes'"
   ]
  },
  {
   "cell_type": "code",
   "execution_count": 12,
   "metadata": {},
   "outputs": [],
   "source": [
    "team_shots = plays.groupby(['team','season','subseason','coordinate_x','coordinate_y']).size()\n",
    "team_shots.name = 'Shots'"
   ]
  },
  {
   "cell_type": "code",
   "execution_count": 13,
   "metadata": {},
   "outputs": [],
   "source": [
    "teams = plays[['team','season']].drop_duplicates().sort_values(['team','season'])\n",
    "subseason = pd.DataFrame({'subseason': ['regular', 'playoffs']})\n",
    "coordinates_x = pd.DataFrame({'coordinate_x': list(range(25,100+1))})  # only consider offensive zone \n",
    "coordinates_y = pd.DataFrame({'coordinate_y': list(range(-42,42+1))})\n",
    "\n",
    "team_shots_spine = teams.merge(subseason, how='cross')\\\n",
    "                        .merge(coordinates_x, how='cross')\\\n",
    "                        .merge(coordinates_y, how='cross')\n",
    "\n",
    "assert team_shots_spine.shape[0] == len(teams) * len(subseason) * len(coordinates_x) * len(coordinates_y)"
   ]
  },
  {
   "cell_type": "code",
   "execution_count": 14,
   "metadata": {},
   "outputs": [],
   "source": [
    "team_shots_spine = team_shots_spine.set_index(['team','season','subseason','coordinate_x','coordinate_y'])"
   ]
  },
  {
   "cell_type": "code",
   "execution_count": 15,
   "metadata": {},
   "outputs": [],
   "source": [
    "team_shots = team_shots_spine.join(team_shots, how='left').fillna(0)"
   ]
  },
  {
   "cell_type": "code",
   "execution_count": 16,
   "metadata": {},
   "outputs": [
    {
     "data": {
      "text/plain": [
       "(1989680, 3)"
      ]
     },
     "execution_count": 16,
     "metadata": {},
     "output_type": "execute_result"
    }
   ],
   "source": [
    "team_shots_per_hour = team_shots.join(team_minutes)\n",
    "team_shots_per_hour['shots_per_hour'] = team_shots_per_hour['Shots'] / \\\n",
    "                                        (team_shots_per_hour['Minutes'] / 60)\n",
    "team_shots_per_hour.shape"
   ]
  },
  {
   "cell_type": "code",
   "execution_count": 17,
   "metadata": {},
   "outputs": [],
   "source": [
    "league_shots_per_hour = team_shots_per_hour.groupby(team_shots_per_hour.index.names[1:])[['Shots','Minutes']].sum()\n",
    "league_shots_per_hour['league_shots_per_hour'] = league_shots_per_hour['Shots'] / \\\n",
    "                                                 (league_shots_per_hour['Minutes'] / 60)\n",
    "league_shots_per_hour = league_shots_per_hour[['league_shots_per_hour']]  # drop other columns"
   ]
  },
  {
   "cell_type": "code",
   "execution_count": 18,
   "metadata": {},
   "outputs": [],
   "source": [
    "team_shots_per_hour = team_shots_per_hour.join(league_shots_per_hour, on=league_shots_per_hour.index.names)  # preserves order"
   ]
  },
  {
   "cell_type": "code",
   "execution_count": 19,
   "metadata": {},
   "outputs": [],
   "source": [
    "# team_shots_per_hour['x_bin'] = team_shots_per_hour.index\n",
    "def round_to_nearest_x(arr,x,offset):\n",
    "     res = x * ((arr-offset) // x) + offset\n",
    "     res = res + (x-1)/2 # if x%2 == 1 else res + x/2  # make coordinate in middle\n",
    "     return res\n",
    "\n",
    "team_shots_per_hour['x_bin'] = round_to_nearest_x(team_shots_per_hour.index.get_level_values('coordinate_x'), 3, 1)\n",
    "team_shots_per_hour['x_bin'].replace({101: 100}, inplace = True)  # smooth edge to original value\n",
    "# team_shots_per_hour.loc[team_shots_per_hour['x_bin'] == -43, 'x_bin'] = -42  \n",
    "team_shots_per_hour['y_bin'] = round_to_nearest_x(team_shots_per_hour.index.get_level_values('coordinate_y'), 3, 1)\n",
    "team_shots_per_hour['y_bin'].replace({-43: -42}, inplace = True)  # smooth edge to original value"
   ]
  },
  {
   "cell_type": "code",
   "execution_count": 20,
   "metadata": {},
   "outputs": [],
   "source": [
    "team_shots_per_hour_binned = \\\n",
    "    team_shots_per_hour.reset_index().groupby(['team', 'season', 'subseason', 'x_bin','y_bin'])\\\n",
    "        [['shots_per_hour', 'league_shots_per_hour']].sum()"
   ]
  },
  {
   "cell_type": "code",
   "execution_count": 21,
   "metadata": {},
   "outputs": [
    {
     "data": {
      "text/html": [
       "<div>\n",
       "<style scoped>\n",
       "    .dataframe tbody tr th:only-of-type {\n",
       "        vertical-align: middle;\n",
       "    }\n",
       "\n",
       "    .dataframe tbody tr th {\n",
       "        vertical-align: top;\n",
       "    }\n",
       "\n",
       "    .dataframe thead th {\n",
       "        text-align: right;\n",
       "    }\n",
       "</style>\n",
       "<table border=\"1\" class=\"dataframe\">\n",
       "  <thead>\n",
       "    <tr style=\"text-align: right;\">\n",
       "      <th></th>\n",
       "      <th></th>\n",
       "      <th></th>\n",
       "      <th></th>\n",
       "      <th></th>\n",
       "      <th>shots_per_hour</th>\n",
       "      <th>league_shots_per_hour</th>\n",
       "    </tr>\n",
       "    <tr>\n",
       "      <th>team</th>\n",
       "      <th>season</th>\n",
       "      <th>subseason</th>\n",
       "      <th>x_bin</th>\n",
       "      <th>y_bin</th>\n",
       "      <th></th>\n",
       "      <th></th>\n",
       "    </tr>\n",
       "  </thead>\n",
       "  <tbody>\n",
       "    <tr>\n",
       "      <th rowspan=\"5\" valign=\"top\">Anaheim Ducks</th>\n",
       "      <th rowspan=\"5\" valign=\"top\">2016</th>\n",
       "      <th rowspan=\"5\" valign=\"top\">playoffs</th>\n",
       "      <th>26.0</th>\n",
       "      <th>-19.0</th>\n",
       "      <td>0.056364</td>\n",
       "      <td>0.010920</td>\n",
       "    </tr>\n",
       "    <tr>\n",
       "      <th rowspan=\"4\" valign=\"top\">29.0</th>\n",
       "      <th>-28.0</th>\n",
       "      <td>0.056364</td>\n",
       "      <td>0.010920</td>\n",
       "    </tr>\n",
       "    <tr>\n",
       "      <th>-10.0</th>\n",
       "      <td>0.056364</td>\n",
       "      <td>0.005460</td>\n",
       "    </tr>\n",
       "    <tr>\n",
       "      <th>11.0</th>\n",
       "      <td>0.056364</td>\n",
       "      <td>0.010920</td>\n",
       "    </tr>\n",
       "    <tr>\n",
       "      <th>14.0</th>\n",
       "      <td>0.056364</td>\n",
       "      <td>0.016381</td>\n",
       "    </tr>\n",
       "    <tr>\n",
       "      <th>...</th>\n",
       "      <th>...</th>\n",
       "      <th>...</th>\n",
       "      <th>...</th>\n",
       "      <th>...</th>\n",
       "      <td>...</td>\n",
       "      <td>...</td>\n",
       "    </tr>\n",
       "    <tr>\n",
       "      <th rowspan=\"5\" valign=\"top\">Winnipeg Jets</th>\n",
       "      <th rowspan=\"5\" valign=\"top\">2020</th>\n",
       "      <th rowspan=\"5\" valign=\"top\">regular</th>\n",
       "      <th rowspan=\"3\" valign=\"top\">92.0</th>\n",
       "      <th>23.0</th>\n",
       "      <td>0.017591</td>\n",
       "      <td>0.003358</td>\n",
       "    </tr>\n",
       "    <tr>\n",
       "      <th>29.0</th>\n",
       "      <td>0.017591</td>\n",
       "      <td>0.002798</td>\n",
       "    </tr>\n",
       "    <tr>\n",
       "      <th>32.0</th>\n",
       "      <td>0.017591</td>\n",
       "      <td>0.002238</td>\n",
       "    </tr>\n",
       "    <tr>\n",
       "      <th>95.0</th>\n",
       "      <th>8.0</th>\n",
       "      <td>0.017591</td>\n",
       "      <td>0.002798</td>\n",
       "    </tr>\n",
       "    <tr>\n",
       "      <th>98.0</th>\n",
       "      <th>-1.0</th>\n",
       "      <td>0.017591</td>\n",
       "      <td>0.000560</td>\n",
       "    </tr>\n",
       "  </tbody>\n",
       "</table>\n",
       "<p>91394 rows × 2 columns</p>\n",
       "</div>"
      ],
      "text/plain": [
       "                                            shots_per_hour  \\\n",
       "team          season subseason x_bin y_bin                   \n",
       "Anaheim Ducks 2016   playoffs  26.0  -19.0        0.056364   \n",
       "                               29.0  -28.0        0.056364   \n",
       "                                     -10.0        0.056364   \n",
       "                                      11.0        0.056364   \n",
       "                                      14.0        0.056364   \n",
       "...                                                    ...   \n",
       "Winnipeg Jets 2020   regular   92.0   23.0        0.017591   \n",
       "                                      29.0        0.017591   \n",
       "                                      32.0        0.017591   \n",
       "                               95.0   8.0         0.017591   \n",
       "                               98.0  -1.0         0.017591   \n",
       "\n",
       "                                            league_shots_per_hour  \n",
       "team          season subseason x_bin y_bin                         \n",
       "Anaheim Ducks 2016   playoffs  26.0  -19.0               0.010920  \n",
       "                               29.0  -28.0               0.010920  \n",
       "                                     -10.0               0.005460  \n",
       "                                      11.0               0.010920  \n",
       "                                      14.0               0.016381  \n",
       "...                                                           ...  \n",
       "Winnipeg Jets 2020   regular   92.0   23.0               0.003358  \n",
       "                                      29.0               0.002798  \n",
       "                                      32.0               0.002238  \n",
       "                               95.0   8.0                0.002798  \n",
       "                               98.0  -1.0                0.000560  \n",
       "\n",
       "[91394 rows x 2 columns]"
      ]
     },
     "execution_count": 21,
     "metadata": {},
     "output_type": "execute_result"
    }
   ],
   "source": [
    "team_shots_per_hour_binned[team_shots_per_hour_binned.shots_per_hour!=0]"
   ]
  },
  {
   "cell_type": "code",
   "execution_count": 3,
   "metadata": {},
   "outputs": [
    {
     "ename": "NameError",
     "evalue": "name 'team_shots_per_hour_binned' is not defined",
     "output_type": "error",
     "traceback": [
      "\u001b[0;31m---------------------------------------------------------------------------\u001b[0m",
      "\u001b[0;31mNameError\u001b[0m                                 Traceback (most recent call last)",
      "\u001b[0;32m/tmp/ipykernel_752919/3479514185.py\u001b[0m in \u001b[0;36m<module>\u001b[0;34m\u001b[0m\n\u001b[1;32m      1\u001b[0m \u001b[0mteam_shots_per_hour_binned\u001b[0m\u001b[0;34m[\u001b[0m\u001b[0;34m'relative_shots_per_hour'\u001b[0m\u001b[0;34m]\u001b[0m \u001b[0;34m=\u001b[0m\u001b[0;31m \u001b[0m\u001b[0;31m\\\u001b[0m\u001b[0;34m\u001b[0m\u001b[0;34m\u001b[0m\u001b[0m\n\u001b[0;32m----> 2\u001b[0;31m     \u001b[0mteam_shots_per_hour_binned\u001b[0m\u001b[0;34m[\u001b[0m\u001b[0;34m'shots_per_hour'\u001b[0m\u001b[0;34m]\u001b[0m \u001b[0;34m-\u001b[0m \u001b[0mteam_shots_per_hour\u001b[0m\u001b[0;34m[\u001b[0m\u001b[0;34m'league_shots_per_hour'\u001b[0m\u001b[0;34m]\u001b[0m\u001b[0;34m\u001b[0m\u001b[0;34m\u001b[0m\u001b[0m\n\u001b[0m",
      "\u001b[0;31mNameError\u001b[0m: name 'team_shots_per_hour_binned' is not defined"
     ]
    }
   ],
   "source": [
    "team_shots_per_hour_binned['relative_shots_per_hour'] = \\\n",
    "    team_shots_per_hour_binned['shots_per_hour'] - team_shots_per_hour['league_shots_per_hour']"
   ]
  },
  {
   "cell_type": "code",
   "execution_count": 2,
   "metadata": {},
   "outputs": [
    {
     "ename": "NameError",
     "evalue": "name 'team_shots_per_hour_binned' is not defined",
     "output_type": "error",
     "traceback": [
      "\u001b[0;31m---------------------------------------------------------------------------\u001b[0m",
      "\u001b[0;31mNameError\u001b[0m                                 Traceback (most recent call last)",
      "\u001b[0;32m/tmp/ipykernel_752919/2401366517.py\u001b[0m in \u001b[0;36m<module>\u001b[0;34m\u001b[0m\n\u001b[0;32m----> 1\u001b[0;31m \u001b[0mteam_shots_per_hour_binned\u001b[0m\u001b[0;34m.\u001b[0m\u001b[0mto_csv\u001b[0m\u001b[0;34m(\u001b[0m\u001b[0;34m\"./data/advanced_viz/shots_per_hour.csv\"\u001b[0m\u001b[0;34m)\u001b[0m\u001b[0;34m\u001b[0m\u001b[0;34m\u001b[0m\u001b[0m\n\u001b[0m",
      "\u001b[0;31mNameError\u001b[0m: name 'team_shots_per_hour_binned' is not defined"
     ]
    }
   ],
   "source": [
    "team_shots_per_hour_binned.to_csv(\"./data/advanced_viz/shots_per_hour.csv\")"
   ]
  }
 ],
 "metadata": {
  "interpreter": {
   "hash": "9458e4c2a045d659c76b210fb79a205bf96c8302ffa2a55b8d778519b889c5e1"
  },
  "kernelspec": {
   "display_name": "Python 3.9.7 64-bit ('ift6758-conda-env': conda)",
   "name": "python3"
  },
  "language_info": {
   "codemirror_mode": {
    "name": "ipython",
    "version": 3
   },
   "file_extension": ".py",
   "mimetype": "text/x-python",
   "name": "python",
   "nbconvert_exporter": "python",
   "pygments_lexer": "ipython3",
   "version": "3.9.7"
  },
  "orig_nbformat": 4
 },
 "nbformat": 4,
 "nbformat_minor": 2
}
