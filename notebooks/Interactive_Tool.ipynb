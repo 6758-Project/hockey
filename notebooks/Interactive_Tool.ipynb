{
 "cells": [
  {
   "cell_type": "code",
   "execution_count": 5,
   "id": "eaa04af7-f516-4c56-b458-5b5124ebfd99",
   "metadata": {},
   "outputs": [],
   "source": [
    "import os\n",
    "import sys\n",
    "import pandas as pd\n",
    "import json\n",
    "import plotly as plt\n",
    "import seaborn as sea\n",
    "import plotly.graph_objects as go\n",
    "import plotly.express as px\n",
    "import ipywidgets as widgets\n",
    "from IPython.display import display"
   ]
  },
  {
   "cell_type": "markdown",
   "id": "eb599aa9-da1f-4caa-a57d-a1205d6e4882",
   "metadata": {
    "tags": []
   },
   "source": [
    "### File Path"
   ]
  },
  {
   "cell_type": "code",
   "execution_count": 6,
   "id": "38d70901-aed3-47a1-8305-6fc8399aa30f",
   "metadata": {},
   "outputs": [],
   "source": [
    "Data_Path = \"../data/raw\""
   ]
  },
  {
   "cell_type": "markdown",
   "id": "bc5d108e-71f5-435a-b550-b7030d84d457",
   "metadata": {},
   "source": [
    "### Functions for the Interface"
   ]
  },
  {
   "cell_type": "code",
   "execution_count": 24,
   "id": "5b2d6582-324e-4c7d-acd2-314e16638606",
   "metadata": {},
   "outputs": [],
   "source": [
    "def InputSelection(Season = \"2016\", SubSeason = \"Regular\" ):\n",
    "        \n",
    "    if SubSeason == \"Regular\":\n",
    "        Sel_season = \"regular\"\n",
    "    else:\n",
    "        Sel_season = \"postseason\"  \n",
    "    \n",
    "    SelectPath = os.path.join(Data_Path,Season,Sel_season )\n",
    "\n",
    "    filelist = os.listdir(SelectPath)\n",
    "    ListCount = len(filelist)\n",
    "        \n",
    "    FileSelection(filelist,ListCount,SelectPath)\n",
    "       \n",
    "    return None\n",
    "\n",
    "\n",
    "def FileSelection (filelist,ListCount,SelectPath):\n",
    "          \n",
    "    widgets.interact(GameSelect, flist = widgets.fixed(filelist), selpath = widgets.fixed(SelectPath), Game_ID=widgets.IntSlider(min=0,max=(ListCount-1),step=1,layout=widgets.Layout(width='1000px')))\n",
    "    return None\n",
    "\n",
    "\n",
    "\n",
    "def GameSelect (flist,  selpath , Game_ID = 0 ):\n",
    "       \n",
    "    FilePath = os.path.join(selpath +'/' + flist[Game_ID])\n",
    "  \n",
    "    with open(FilePath) as f:\n",
    "        Data = json.load(f)\n",
    "    f.close()\n",
    " \n",
    "    DataLive = Data[\"liveData\"]\n",
    "     \n",
    "    home_team = Data[\"gameData\"][\"teams\"][\"home\"][\"name\"]\n",
    "    away_team = Data[\"gameData\"][\"teams\"][\"away\"][\"name\"]\n",
    "    print(\"Home Team: \" + home_team)\n",
    "    print(\"Away Team: \" + away_team)\n",
    "    \n",
    "\n",
    "    Event_Data = DataLive[\"plays\"][\"allPlays\"]\n",
    "    EventCount = len(Event_Data)\n",
    "    \n",
    "    print(\"Game Start: \", Data[\"gameData\"][\"datetime\"][\"dateTime\"])\n",
    "    \n",
    "    if \"endDateTime\" in Data[\"gameData\"][\"datetime\"].keys():\n",
    "        print(\"Game End: \", Data[\"gameData\"][\"datetime\"][\"endDateTime\"])\n",
    "        Skip = 0\n",
    "    else:\n",
    "        Skip = 1    \n",
    "        \n",
    "    if Skip == 1:\n",
    "        print(\"Type: \" , Data[\"gameData\"][\"status\"][\"abstractGameState\"])\n",
    "    else:\n",
    "        widgets.interact(EventSelect, Event_Data = widgets.fixed(Event_Data), Event_ID=widgets.IntSlider(min=1,max=(EventCount),step=1,layout=widgets.Layout(width='1000px')))    \n",
    "    \n",
    "    return None\n",
    "\n",
    "\n",
    "def EventSelect (Event_Data,  Event_ID = 1 ):\n",
    "\n",
    "    Current_Event = ((Event_Data[Event_ID-1]))\n",
    "   \n",
    "    print(\"Event: \", Current_Event[\"result\"][\"event\"])\n",
    "    print(\"Description: \", Current_Event[\"result\"][\"description\"])\n",
    "    print(\"Time Stamp: \", Current_Event[\"about\"][\"dateTime\"])\n",
    "    print(\"Coordinates: \", Current_Event[\"coordinates\"])\n",
    "    \n",
    "    if \"secondaryType\" in Current_Event[\"result\"].keys():\n",
    "        print(\"Shot Type: \", Current_Event[\"result\"][\"secondaryType\"])          \n",
    "\n",
    "    return None"
   ]
  },
  {
   "cell_type": "markdown",
   "id": "7b974d55-f403-41a9-a17e-a778f7897507",
   "metadata": {},
   "source": [
    "### Interactive Interface"
   ]
  },
  {
   "cell_type": "code",
   "execution_count": 25,
   "id": "3c35556d-8d42-49da-b139-c487505abd4b",
   "metadata": {},
   "outputs": [
    {
     "data": {
      "application/vnd.jupyter.widget-view+json": {
       "model_id": "674ba6931f194a97a02e187ddd618214",
       "version_major": 2,
       "version_minor": 0
      },
      "text/plain": [
       "interactive(children=(Dropdown(description='Season', options=('2016', '2017', '2018', '2019', '2020'), value='…"
      ]
     },
     "metadata": {},
     "output_type": "display_data"
    },
    {
     "data": {
      "text/plain": [
       "<function __main__.InputSelection(Season='2016', SubSeason='Regular')>"
      ]
     },
     "execution_count": 25,
     "metadata": {},
     "output_type": "execute_result"
    }
   ],
   "source": [
    "widgets.interact(InputSelection, Season = [\"2016\",\"2017\",\"2018\",\"2019\",\"2020\"], SubSeason=[\"Regular\", \"Post Season\"] )"
   ]
  },
  {
   "cell_type": "code",
   "execution_count": null,
   "id": "a56bcef0-cb19-4389-98c6-ee6b84600f03",
   "metadata": {},
   "outputs": [],
   "source": []
  }
 ],
 "metadata": {
  "kernelspec": {
   "display_name": "ift6758-conda-env",
   "language": "python",
   "name": "ift6758-conda-env"
  },
  "language_info": {
   "codemirror_mode": {
    "name": "ipython",
    "version": 3
   },
   "file_extension": ".py",
   "mimetype": "text/x-python",
   "name": "python",
   "nbconvert_exporter": "python",
   "pygments_lexer": "ipython3",
   "version": "3.9.7"
  }
 },
 "nbformat": 4,
 "nbformat_minor": 5
}
