{
 "cells": [
  {
   "cell_type": "code",
   "execution_count": 1,
   "id": "69ffb291-c2f7-4951-800a-2281efe6b3af",
   "metadata": {},
   "outputs": [],
   "source": [
    "import os\n",
    "import sys\n",
    "from comet_ml.api import API, APIExperiment, Exi\n",
    "\n",
    "sys.path.insert(0,'../src/training/')\n",
    "from utils import EXP_KWARGS"
   ]
  },
  {
   "cell_type": "code",
   "execution_count": null,
   "id": "dd27df26-2236-498f-8f55-89a696d39b95",
   "metadata": {},
   "outputs": [],
   "source": [
    "experiments_keys = {\n",
    "    \"LR_angle_only\": \"4375836d74954c4caba5fc48dd85347c\",\n",
    "    \"LR_distance_only\": \"dece602c08a4474f8f14e96ebff071b1\",\n",
    "    \"LR_distance_and_angle\": \"fbedbca529bc4623bdff4b0f167c6422\",\n",
    "    \n",
    "    \"xgboost_baseline\": \"6674103c7b7a4a38bcce89ca60d69cd6\",\n",
    "    \"xgboost_optimal\": \"0bf852d52c004156abf54cc2ef5e297d\",\n",
    "    \"xgboost_lasso\": \"98ccf2eda8944da6b94e8eac3fb56769\",\n",
    "    \"xgboost_SHAP\": \"360783a9e6294503a9290b1b36e263b0\",\n",
    "    \"xgboost_feat_non_corr\": \"45fcfdff52d842e097135197995e985a\","
   ]
  },
  {
   "cell_type": "code",
   "execution_count": 17,
   "id": "974120fa-cd6f-4761-bfa9-b6527b4ee0a4",
   "metadata": {},
   "outputs": [
    {
     "data": {
      "text/plain": [
       "'https://www.comet.ml/tim-k-lee/ift6758-hockey/45fcfdff52d842e097135197995e985a'"
      ]
     },
     "execution_count": 17,
     "metadata": {},
     "output_type": "execute_result"
    }
   ],
   "source": [
    "# save the dataframe with all the required features in Q4 in milestone-2\n",
    "my_comet_apt_key = os.environ.get(\"COMET_API_KEY\")\n",
    "\n",
    "api = API(api_key = my_comet_apt_key)\n",
    "experiment = api.get_experiment(\n",
    "    EXP_KWARGS[\"workspace\"], \n",
    "    EXP_KWARGS[\"project_name\"], \n",
    "    experiment=\"45fcfdff52d842e097135197995e985a\")\n",
    "\n",
    "experiment.url"
   ]
  },
  {
   "cell_type": "code",
   "execution_count": null,
   "id": "2c87815f-fd76-40a0-bb99-1a57459af959",
   "metadata": {},
   "outputs": [],
   "source": [
    "# LR baseline models (3 models):\n",
    "# LR_angle_only: https://www.comet.ml/tim-k-lee/ift6758-hockey/4375836d74954c4caba5fc48dd85347c\n",
    "# LR_distance_only: https://www.comet.ml/tim-k-lee/ift6758-hockey/dece602c08a4474f8f14e96ebff071b1\n",
    "# LR_distance_and_angle: https://www.comet.ml/tim-k-lee/ift6758-hockey/fbedbca529bc4623bdff4b0f167c6422\n",
    "\n",
    "# XGBoost models: \n",
    "# xgboost_baseline: https://www.comet.ml/tim-k-lee/ift6758-hockey/6674103c7b7a4a38bcce89ca60d69cd6\n",
    "# xgboost_optimal: https://www.comet.ml/tim-k-lee/ift6758-hockey/0bf852d52c004156abf54cc2ef5e297d\n",
    "# xgboost_lasso: https://www.comet.ml/tim-k-lee/ift6758-hockey/98ccf2eda8944da6b94e8eac3fb56769\n",
    "# xgboost_SHAP: https://www.comet.ml/tim-k-lee/ift6758-hockey/360783a9e6294503a9290b1b36e263b0\n",
    "\n",
    "# Q3 Dataframe with the bonus: https://www.comet.ml/tim-k-lee/ift6758-hockey/a6ab7af75c3f4c5282a122d71325dde1\n",
    "\n",
    "# Q6 models:\n",
    "# xgboost_feats_non_corr: https://www.comet.ml/tim-k-lee/ift6758-hockey/45fcfdff52d842e097135197995e985a\n",
    "# NN_adv: https://www.comet.ml/tim-k-lee/ift6758-hockey/28f4a2c65ff8481f8bad834927a7513a\n",
    "# xgboost_feats_non_corr: https://www.comet.ml/tim-k-lee/ift6758-hockey/45fcfdff52d842e097135197995e985a"
   ]
  }
 ],
 "metadata": {
  "kernelspec": {
   "display_name": "ift6758-conda-env",
   "language": "python",
   "name": "ift6758-conda-env"
  },
  "language_info": {
   "codemirror_mode": {
    "name": "ipython",
    "version": 3
   },
   "file_extension": ".py",
   "mimetype": "text/x-python",
   "name": "python",
   "nbconvert_exporter": "python",
   "pygments_lexer": "ipython3",
   "version": "3.9.7"
  }
 },
 "nbformat": 4,
 "nbformat_minor": 5
}
