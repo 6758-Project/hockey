{
 "cells": [
  {
   "cell_type": "markdown",
   "metadata": {},
   "source": [
    "# Initializing Dash for visualization"
   ]
  },
  {
   "cell_type": "markdown",
   "metadata": {},
   "source": [
    "## imports"
   ]
  },
  {
   "cell_type": "code",
   "execution_count": 1,
   "metadata": {},
   "outputs": [],
   "source": [
    "import os\n",
    "import sys\n",
    "import pandas as pd\n",
    "import numpy as np\n",
    "import matplotlib.pyplot as plt\n",
    "from scipy import stats\n",
    "from PIL import Image\n",
    "from jupyter_dash import JupyterDash\n",
    "import dash\n",
    "from dash import dcc\n",
    "from dash import html\n",
    "from dash.dependencies import Input, Output\n",
    "import plotly.graph_objects as go\n",
    "import plotly.express as px\n",
    "import plotly.figure_factory as ff\n",
    "import csv "
   ]
  },
  {
   "cell_type": "markdown",
   "metadata": {},
   "source": [
    "## get all the teams"
   ]
  },
  {
   "cell_type": "code",
   "execution_count": 2,
   "metadata": {},
   "outputs": [],
   "source": [
    "sys.path.insert(0,'../src/data/')\n",
    "from team_data import  get_all_teams \n",
    "\n",
    "seasons = [2016, 2017, 2018, 2019, 2020]    \n",
    "game_data_dir = \"../data/games/\"\n",
    "\n",
    "fname = \"../data/NHL_Teams_List.csv\"\n",
    "img = Image.open('../figures/nhl_rink.png')\n",
    "\n",
    "# for the binning\n",
    "grid_size = 300\n",
    "min_count = 3 \n",
    "\n",
    "if os.path.isfile(fname):\n",
    "    teams_lst_df=pd.read_csv(fname)\n",
    "    teams_lst = teams_lst_df['Teams'].values.tolist()\n",
    "else:\n",
    "    teams_lst = get_all_teams(data_dir=\"../data/raw\")\n",
    "    teams_lst_df = pd.DataFrame(teams_lst,columns =['Teams'])\n",
    "    teams_lst_df.to_csv(fname)"
   ]
  },
  {
   "cell_type": "markdown",
   "metadata": {
    "tags": []
   },
   "source": [
    "## Adding the NHL rink as background image for any plotly graph"
   ]
  },
  {
   "cell_type": "code",
   "execution_count": 3,
   "metadata": {},
   "outputs": [],
   "source": [
    "def add_nhl_rink_img(fig):\n",
    "        # set the axes\n",
    "    fig.update_yaxes(range=[-45, 45], \n",
    "                     scaleratio = 1, \n",
    "                     scaleanchor=\"y\",\n",
    "                     showgrid=True,\n",
    "                     zeroline=True,\n",
    "                     showline=True,\n",
    "                     gridcolor='#bdbdbd',\n",
    "                     gridwidth=2,\n",
    "                     zerolinecolor='#969696',\n",
    "                     zerolinewidth=4,\n",
    "                     linecolor='#636363',\n",
    "                     linewidth=6)\n",
    "    fig.update_xaxes(range=[-100, 100], \n",
    "                     scaleratio = 1, \n",
    "                     scaleanchor=\"x\",\n",
    "                     showgrid=True,\n",
    "                     zeroline=True,\n",
    "                     showline=True,\n",
    "                     gridcolor='#bdbdbd',\n",
    "                     gridwidth=2,\n",
    "                     zerolinecolor='#969696',\n",
    "                     zerolinewidth=4,\n",
    "                     linecolor='#636363',\n",
    "                     linewidth=6)\n",
    "\n",
    "    # remove any margins and padding\n",
    "    fig.update_layout(\n",
    "        autosize=False,\n",
    "        width=1000,\n",
    "        height=500,\n",
    "        margin=dict(l=0, #left margin\n",
    "                    r=0, #right margin\n",
    "                    b=0, #bottom margin\n",
    "                    t=0,  #top margin\n",
    "                    pad=0\n",
    "                   )\n",
    "    )\n",
    "\n",
    "\n",
    "    # Add the NHL rink image\n",
    "    fig.add_layout_image(\n",
    "            dict(\n",
    "                source=img,\n",
    "                xref=\"x\",\n",
    "                yref=\"y\",\n",
    "                x=0,\n",
    "                y=0,\n",
    "                sizex=200,\n",
    "                sizey=85,\n",
    "                sizing= \"stretch\",\n",
    "                layer = \"below\",\n",
    "                xanchor = \"center\",\n",
    "                yanchor = \"middle\",\n",
    "                opacity = 0.8),\n",
    "    )\n",
    "    return fig"
   ]
  },
  {
   "cell_type": "markdown",
   "metadata": {},
   "source": [
    "## Bin a given dataframe for the NHL rink"
   ]
  },
  {
   "cell_type": "code",
   "execution_count": 4,
   "metadata": {},
   "outputs": [],
   "source": [
    "def get_bins(df):\n",
    "    xbnds = np.array([-100., 100.0])\n",
    "    ybnds = np.array([-42.5, 42.5])\n",
    "    extent = [xbnds[0],xbnds[1],ybnds[0],ybnds[1]]\n",
    "    \n",
    "    league_hex_data = plt.hexbin(df['coordinate_x'],df['coordinate_y'], \n",
    "                                 gridsize=grid_size,\n",
    "                                 extent=extent,\n",
    "                                 mincnt=min_count,\n",
    "                                 alpha=0.0)# Now we extract the bin coordinates and counts\n",
    "    league_bins = league_hex_data.get_offsets();\n",
    "    league_shot_frequency = league_hex_data.get_array();\n",
    "    return league_bins, league_shot_frequency"
   ]
  },
  {
   "cell_type": "markdown",
   "metadata": {},
   "source": [
    "## Prepare the layout: adding slider and two dropdown lists "
   ]
  },
  {
   "cell_type": "code",
   "execution_count": 5,
   "metadata": {},
   "outputs": [],
   "source": [
    "external_stylesheets = ['https://codepen.io/chriddyp/pen/bWLwgP.css']\n",
    "app = JupyterDash(__name__, external_stylesheets=external_stylesheets)\n",
    "\n",
    "app.layout = html.Div([\n",
    "    \n",
    "    html.Div([\n",
    "        \"Team: \",\n",
    "        dcc.Dropdown(\n",
    "                    id='teams-dropdown',\n",
    "                    options=[{'label': i, 'value': i} for i in teams_lst],\n",
    "                    value=teams_lst[0]\n",
    "                ),\n",
    "        \"Season: \",\n",
    "        dcc.Dropdown(\n",
    "                    id='seasons-dropdown',\n",
    "                    options=[{'label': i, 'value': str(i)} for i in seasons],\n",
    "                    value=seasons[0]\n",
    "                ),\n",
    "        \"Sub-season: \",\n",
    "        dcc.Dropdown(\n",
    "                    id='sub-seasons-dropdown',\n",
    "                    options=[{'label': i, 'value': i} for i in ['regular', 'postseason']],\n",
    "                    value='regular'\n",
    "                ),\n",
    "        ],\n",
    "        style={'width': '49%', 'display': 'inline-block'}),\n",
    "    \n",
    "    html.Div([\n",
    "        \"Shots and Goals Map: \",\n",
    "        dcc.Graph(id='nhl-rink-graph'),\n",
    "        \"League Average: \",\n",
    "        dcc.Graph(id='nhl-league-avg-graph'),\n",
    "        \"Team Excess Shots per Spatial Location: \",\n",
    "        dcc.Graph(id='nhl-team-excess-shots-graph'),\n",
    "    ])\n",
    "])"
   ]
  },
  {
   "cell_type": "markdown",
   "metadata": {},
   "source": [
    "## Visualizing the shots for a given team, year and season"
   ]
  },
  {
   "cell_type": "markdown",
   "metadata": {},
   "source": [
    "[source](https://towardsdatascience.com/nhl-analytics-with-python-6390c5d3206d)"
   ]
  },
  {
   "cell_type": "code",
   "execution_count": 6,
   "metadata": {},
   "outputs": [],
   "source": [
    "def get_league_avg_fig(game_df):\n",
    "    \n",
    "    # get the bins of the x and y coordinates\n",
    "    league_bins, league_bin_counts = get_bins(game_df)\n",
    "        \n",
    "    # divide the counts by the number of teams in the selected season (to get league averages)\n",
    "    teams_in_season = set(game_df['home_team'].unique() + game_df['away_team'].unique())\n",
    "    num_teams = len(teams_in_season)\n",
    "    league_bin_avg = league_bin_counts/float(num_teams)    \n",
    "    \n",
    "    bin_dct = {'x': league_bins[:,0], 'y': league_bins[:,1], 'league_avg': league_bin_avg}\n",
    "    new_binned_df = pd.DataFrame(bin_dct)\n",
    "    \n",
    "\n",
    "    \n",
    "    # hex/density figure\n",
    "    fig_bin = px.density_heatmap(new_binned_df, x=\"x\", y=\"y\", z=\"league_avg\", color_continuous_scale=\"turbo\")\n",
    "    fig_bin.update_traces(zsmooth='ḅest', selector=dict(type='heatmap'))\n",
    "    fig_bin.update_traces(connectgap=True, selector=dict(type='heatmap'))\n",
    "    fig_bin.update_traces(opacity=0.5)\n",
    "    fig_bin.add_trace(fig_bin.data[0])\n",
    "\n",
    "    fig_bin = add_nhl_rink_img(fig_bin)\n",
    "    \n",
    "    return fig_bin, league_bins, league_bin_avg"
   ]
  },
  {
   "cell_type": "code",
   "execution_count": 7,
   "metadata": {},
   "outputs": [],
   "source": [
    "def get_team_excess_shot_fig(team_bin_df, league_bins, league_bin_avg):\n",
    "       \n",
    "    # get the bins of the x and y coordinates\n",
    "    team_bins, team_bin_counts = get_bins(team_bin_df)\n",
    "    \n",
    "    # calculate the excess shots per location (x,y) \n",
    "    # (i.e. the difference between the team_bin_counts and league_bin_avg)\n",
    "    \n",
    "    num_bins = len(team_bin_counts)\n",
    "    \n",
    "    team_excess_shots = np.zeros(num_bins)\n",
    "    \n",
    "    for idx_team, team_bin in enumerate(team_bins):\n",
    "        for idx_league, league_bin in enumerate(league_bins):\n",
    "            if team_bin[0] == league_bin[0] and team_bin[1] == league_bin[1]:\n",
    "                team_excess_shots[idx_team] = team_bin_counts[idx_team] - league_bin_avg[idx_league]\n",
    "\n",
    "    print(team_excess_shots)\n",
    "    bin_dct = {'x': team_bins[:,0], 'y': team_bins[:,1], 'excess_shots': team_excess_shots}\n",
    "    new_binned_df = pd.DataFrame(bin_dct)\n",
    "    \n",
    "    \n",
    "    # hex/density figure\n",
    "    fig_bin = px.density_heatmap(new_binned_df, x=\"x\", y=\"y\", z=\"excess_shots\", color_continuous_scale=\"turbo\")\n",
    "    fig_bin.update_traces(zsmooth='best', selector=dict(type='heatmap'))\n",
    "    fig_bin.update_traces(connectgap=True, selector=dict(type='heatmap'))\n",
    "\n",
    "    fig_bin.update_traces(opacity=0.5)\n",
    "    try:\n",
    "        fig_bin.add_trace(fig_bin.data[0])\n",
    "        fig_bin = add_nhl_rink_img(fig_bin)\n",
    "    except:\n",
    "        fig_bin = add_nhl_rink_img(fig_bin)\n",
    "\n",
    "    return fig_bin, team_bins, team_bin_counts"
   ]
  },
  {
   "cell_type": "code",
   "execution_count": 8,
   "metadata": {},
   "outputs": [
    {
     "name": "stdout",
     "output_type": "stream",
     "text": [
      "Dash app running on http://127.0.0.1:8050/\n",
      "[ 2.26666667  2.33333333  2.56666667  2.63333333  2.16666667  2.56666667\n",
      "  3.3         2.13333333  2.3         2.5         2.43333333  2.3\n",
      "  2.26666667  2.2         2.3         3.3         2.06666667  2.23333333\n",
      "  2.2         3.3         3.06666667  2.03333333  2.23333333  3.16666667\n",
      "  2.1         2.36666667  1.36666667  0.56666667  0.5         1.4\n",
      "  2.2         2.93333333  4.53333333  2.63333333  2.23333333  4.13333333\n",
      "  2.2         2.23333333  0.16666667  0.73333333  1.6         0.63333333\n",
      "  4.6         3.9         3.26666667  2.63333333  1.83333333  1.86666667\n",
      "  2.46666667  2.23333333  1.83333333  2.96666667  2.36666667  3.16666667\n",
      "  2.36666667  2.3         2.36666667  2.13333333  2.53333333  2.43333333\n",
      "  2.36666667  3.          2.36666667  2.43333333  3.46666667  1.9\n",
      "  2.36666667  2.73333333  2.46666667  2.06666667  3.2         1.9\n",
      "  2.6         0.96666667  0.8         1.43333333  1.43333333  2.43333333\n",
      "  2.2         1.46666667  2.33333333  1.36666667  1.7         2.36666667\n",
      "  1.2         0.26666667 -0.26666667  2.1         1.2        -0.4\n",
      "  2.33333333  1.1         2.76666667  1.4         1.1         2.03333333\n",
      "  2.          0.73333333 -0.46666667  0.3         2.8         2.36666667\n",
      "  1.16666667  3.1         3.03333333  2.3         3.5         3.\n",
      "  4.36666667  3.16666667  3.26666667  1.7        -0.7         3.26666667\n",
      "  3.1         1.73333333  0.8         1.46666667  6.43333333 -0.4\n",
      "  4.2         1.23333333  0.8         0.23333333  4.66666667  4.13333333\n",
      "  0.56666667  1.03333333  2.56666667  0.4        -0.3         2.53333333\n",
      "  2.46666667 -2.1         1.03333333  1.3        -1.          2.96666667\n",
      "  2.3         0.23333333  1.36666667  2.03333333  1.2         3.7\n",
      "  0.23333333  1.43333333  0.76666667  4.3         0.53333333  0.4\n",
      "  1.96666667  1.36666667  2.73333333  1.66666667]\n",
      "[2.75   2.5    2.375  3.1875 2.625  2.5    3.     2.5625 2.75  ]\n"
     ]
    }
   ],
   "source": [
    "@app.callback(\n",
    "    Output('nhl-rink-graph', 'figure'),\n",
    "    Output('nhl-league-avg-graph', 'figure'),\n",
    "    Output('nhl-team-excess-shots-graph', 'figure'),\n",
    "    [Input('seasons-dropdown', 'value'),\n",
    "     Input('teams-dropdown', 'value'),\n",
    "     Input('sub-seasons-dropdown', 'value')])\n",
    "def update_figure(selected_season, selected_team, selected_sub_season):\n",
    "    \n",
    "    # get the dataframe of the chosen team\n",
    "    if selected_sub_season == 'regular':\n",
    "        sub_str = '02'\n",
    "    elif selected_sub_season == 'postseason':\n",
    "        sub_str = '03'\n",
    "\n",
    "    game_file_str = str(selected_season) + '-' + selected_sub_season + '.csv'\n",
    "    game_df = pd.read_csv(os.path.join(game_data_dir, game_file_str))\n",
    "    \n",
    "    # team's data\n",
    "    team_df = game_df[game_df['shooter_team_name'] == selected_team]\n",
    "    \n",
    "    fig = px.scatter(team_df, x=\"coordinate_x\", y=\"coordinate_y\", \n",
    "                              color=\"type\", hover_name=\"shooter_name\")\n",
    "    \n",
    "    fig.update_traces(marker=dict(size=12,\n",
    "                              line=dict(width=2,)),\n",
    "                  selector=dict(mode='markers'))\n",
    "    \n",
    "    fig = add_nhl_rink_img(fig)\n",
    "\n",
    "    ############# calculate the league averages ###########\n",
    "    fig_league_avg, league_bins, league_bin_avg = get_league_avg_fig(game_df)\n",
    "    ############# get each team's excess shots per location ###########\n",
    "    fig_team_excess_shot, team_bins, team_bin_counts = get_team_excess_shot_fig(team_df, \n",
    "                                                                                league_bins, \n",
    "                                                                                league_bin_avg)\n",
    "    \n",
    "    return fig, fig_league_avg, fig_team_excess_shot\n",
    "\n",
    "app.run_server()"
   ]
  },
  {
   "cell_type": "code",
   "execution_count": null,
   "metadata": {},
   "outputs": [],
   "source": []
  },
  {
   "cell_type": "markdown",
   "metadata": {},
   "source": [
    "# Draft"
   ]
  },
  {
   "cell_type": "code",
   "execution_count": 26,
   "metadata": {},
   "outputs": [
    {
     "data": {
      "image/png": "[encoded data removed]",
      "text/plain": [
       "<Figure size 432x288 with 1 Axes>"
      ]
     },
     "metadata": {
      "needs_background": "light"
     },
     "output_type": "display_data"
    }
   ],
   "source": [
    "game_df = pd.read_csv(\"../data/games_year/2016.csv\")\n",
    "team_df = game_df[game_df['shooter_team_name'] == teams_lst[0]]"
   ]
  },
  {
   "cell_type": "code",
   "execution_count": 64,
   "metadata": {},
   "outputs": [
    {
     "name": "stdout",
     "output_type": "stream",
     "text": [
      "positions: (4768,)\n",
      "depth: (4768,)\n"
     ]
    },
    {
     "ename": "ValueError",
     "evalue": "points have dimension 2, dataset has dimension 1",
     "output_type": "error",
     "traceback": [
      "\u001b[0;31m---------------------------------------------------------------------------\u001b[0m",
      "\u001b[0;31mValueError\u001b[0m                                Traceback (most recent call last)",
      "\u001b[0;32m<ipython-input-64-9a0dbfa5b6a6>\u001b[0m in \u001b[0;36m<module>\u001b[0;34m\u001b[0m\n\u001b[1;32m      1\u001b[0m \u001b[0;31m############# calculate the league averages ###########\u001b[0m\u001b[0;34m\u001b[0m\u001b[0;34m\u001b[0m\u001b[0;34m\u001b[0m\u001b[0m\n\u001b[0;32m----> 2\u001b[0;31m \u001b[0mfig_league_avg\u001b[0m\u001b[0;34m,\u001b[0m \u001b[0mleague_bins\u001b[0m\u001b[0;34m,\u001b[0m \u001b[0mleague_bin_counts\u001b[0m \u001b[0;34m=\u001b[0m \u001b[0mget_league_avg_fig\u001b[0m\u001b[0;34m(\u001b[0m\u001b[0mgame_df\u001b[0m\u001b[0;34m)\u001b[0m\u001b[0;34m\u001b[0m\u001b[0;34m\u001b[0m\u001b[0m\n\u001b[0m\u001b[1;32m      3\u001b[0m \u001b[0;31m############# get each team's excess shots per location ###########\u001b[0m\u001b[0;34m\u001b[0m\u001b[0;34m\u001b[0m\u001b[0;34m\u001b[0m\u001b[0m\n\u001b[1;32m      4\u001b[0m \u001b[0mfig_team_excess_shot\u001b[0m\u001b[0;34m,\u001b[0m \u001b[0mteam_bins\u001b[0m\u001b[0;34m,\u001b[0m \u001b[0mteam_bin_counts\u001b[0m \u001b[0;34m=\u001b[0m \u001b[0mget_team_excess_shot_fig\u001b[0m\u001b[0;34m(\u001b[0m\u001b[0mteam_df\u001b[0m\u001b[0;34m,\u001b[0m \u001b[0mleague_bins\u001b[0m\u001b[0;34m,\u001b[0m \u001b[0mleague_bin_counts\u001b[0m\u001b[0;34m)\u001b[0m\u001b[0;34m\u001b[0m\u001b[0;34m\u001b[0m\u001b[0m\n\u001b[1;32m      5\u001b[0m \u001b[0mleague_bins\u001b[0m\u001b[0;34m[\u001b[0m\u001b[0;34m:\u001b[0m\u001b[0;34m,\u001b[0m\u001b[0;36m0\u001b[0m\u001b[0;34m]\u001b[0m\u001b[0;34m.\u001b[0m\u001b[0mshape\u001b[0m\u001b[0;34m\u001b[0m\u001b[0;34m\u001b[0m\u001b[0m\n",
      "\u001b[0;32m<ipython-input-63-0db471e9f016>\u001b[0m in \u001b[0;36mget_league_avg_fig\u001b[0;34m(game_df)\u001b[0m\n\u001b[1;32m     10\u001b[0m \u001b[0;34m\u001b[0m\u001b[0m\n\u001b[1;32m     11\u001b[0m     \u001b[0;31m# smooth the counts\u001b[0m\u001b[0;34m\u001b[0m\u001b[0;34m\u001b[0m\u001b[0;34m\u001b[0m\u001b[0m\n\u001b[0;32m---> 12\u001b[0;31m     \u001b[0mleague_bin_avg_smoothed\u001b[0m \u001b[0;34m=\u001b[0m \u001b[0msmooth_depth\u001b[0m\u001b[0;34m(\u001b[0m\u001b[0mleague_bins\u001b[0m\u001b[0;34m[\u001b[0m\u001b[0;34m:\u001b[0m\u001b[0;34m,\u001b[0m\u001b[0;36m0\u001b[0m\u001b[0;34m]\u001b[0m\u001b[0;34m,\u001b[0m \u001b[0mleague_bins\u001b[0m\u001b[0;34m[\u001b[0m\u001b[0;34m:\u001b[0m\u001b[0;34m,\u001b[0m\u001b[0;36m1\u001b[0m\u001b[0;34m]\u001b[0m\u001b[0;34m,\u001b[0m \u001b[0mleague_bin_avg\u001b[0m\u001b[0;34m)\u001b[0m\u001b[0;34m\u001b[0m\u001b[0;34m\u001b[0m\u001b[0m\n\u001b[0m\u001b[1;32m     13\u001b[0m \u001b[0;34m\u001b[0m\u001b[0m\n\u001b[1;32m     14\u001b[0m \u001b[0;34m\u001b[0m\u001b[0m\n",
      "\u001b[0;32m<ipython-input-62-a99cb40efc92>\u001b[0m in \u001b[0;36msmooth_depth\u001b[0;34m(x_data, y_data, depth)\u001b[0m\n\u001b[1;32m      5\u001b[0m     \u001b[0mprint\u001b[0m\u001b[0;34m(\u001b[0m\u001b[0;34mf\"depth: {depth.shape}\"\u001b[0m\u001b[0;34m)\u001b[0m\u001b[0;34m\u001b[0m\u001b[0;34m\u001b[0m\u001b[0m\n\u001b[1;32m      6\u001b[0m     \u001b[0mkernel\u001b[0m \u001b[0;34m=\u001b[0m \u001b[0mstats\u001b[0m\u001b[0;34m.\u001b[0m\u001b[0mgaussian_kde\u001b[0m\u001b[0;34m(\u001b[0m\u001b[0mdepth\u001b[0m\u001b[0;34m)\u001b[0m\u001b[0;34m\u001b[0m\u001b[0;34m\u001b[0m\u001b[0m\n\u001b[0;32m----> 7\u001b[0;31m     \u001b[0mnew_depth\u001b[0m \u001b[0;34m=\u001b[0m \u001b[0mnp\u001b[0m\u001b[0;34m.\u001b[0m\u001b[0mreshape\u001b[0m\u001b[0;34m(\u001b[0m\u001b[0mkernel\u001b[0m\u001b[0;34m(\u001b[0m\u001b[0mpositions\u001b[0m\u001b[0;34m)\u001b[0m\u001b[0;34m.\u001b[0m\u001b[0mT\u001b[0m\u001b[0;34m,\u001b[0m \u001b[0mx_data\u001b[0m\u001b[0;34m.\u001b[0m\u001b[0mshape\u001b[0m\u001b[0;34m)\u001b[0m\u001b[0;34m\u001b[0m\u001b[0;34m\u001b[0m\u001b[0m\n\u001b[0m\u001b[1;32m      8\u001b[0m \u001b[0;34m\u001b[0m\u001b[0m\n\u001b[1;32m      9\u001b[0m     \u001b[0;32mreturn\u001b[0m \u001b[0mnew_depth\u001b[0m\u001b[0;34m\u001b[0m\u001b[0;34m\u001b[0m\u001b[0m\n",
      "\u001b[0;32m~/anaconda3/lib/python3.7/site-packages/scipy/stats/kde.py\u001b[0m in \u001b[0;36mevaluate\u001b[0;34m(self, points)\u001b[0m\n\u001b[1;32m    239\u001b[0m                 msg = \"points have dimension %s, dataset has dimension %s\" % (d,\n\u001b[1;32m    240\u001b[0m                     self.d)\n\u001b[0;32m--> 241\u001b[0;31m                 \u001b[0;32mraise\u001b[0m \u001b[0mValueError\u001b[0m\u001b[0;34m(\u001b[0m\u001b[0mmsg\u001b[0m\u001b[0;34m)\u001b[0m\u001b[0;34m\u001b[0m\u001b[0;34m\u001b[0m\u001b[0m\n\u001b[0m\u001b[1;32m    242\u001b[0m \u001b[0;34m\u001b[0m\u001b[0m\n\u001b[1;32m    243\u001b[0m         \u001b[0mresult\u001b[0m \u001b[0;34m=\u001b[0m \u001b[0mzeros\u001b[0m\u001b[0;34m(\u001b[0m\u001b[0;34m(\u001b[0m\u001b[0mm\u001b[0m\u001b[0;34m,\u001b[0m\u001b[0;34m)\u001b[0m\u001b[0;34m,\u001b[0m \u001b[0mdtype\u001b[0m\u001b[0;34m=\u001b[0m\u001b[0mfloat\u001b[0m\u001b[0;34m)\u001b[0m\u001b[0;34m\u001b[0m\u001b[0;34m\u001b[0m\u001b[0m\n",
      "\u001b[0;31mValueError\u001b[0m: points have dimension 2, dataset has dimension 1"
     ]
    },
    {
     "data": {
      "image/png": "[encoded data removed]",
      "text/plain": [
       "<Figure size 432x288 with 1 Axes>"
      ]
     },
     "metadata": {
      "needs_background": "light"
     },
     "output_type": "display_data"
    }
   ],
   "source": [
    "############# calculate the league averages ###########\n",
    "fig_league_avg, league_bins, league_bin_counts = get_league_avg_fig(game_df)\n",
    "############# get each team's excess shots per location ###########\n",
    "fig_team_excess_shot, team_bins, team_bin_counts = get_team_excess_shot_fig(team_df, league_bins, league_bin_counts)\n",
    "league_bins[:,0].shape"
   ]
  },
  {
   "cell_type": "code",
   "execution_count": 22,
   "metadata": {},
   "outputs": [
    {
     "data": {
      "text/plain": [
       "((3001, 2), (89, 2))"
      ]
     },
     "execution_count": 22,
     "metadata": {},
     "output_type": "execute_result"
    }
   ],
   "source": [
    "league_bins.shape, team_bins.shape"
   ]
  },
  {
   "cell_type": "code",
   "execution_count": 29,
   "metadata": {},
   "outputs": [
    {
     "data": {
      "text/plain": [
       "89"
      ]
     },
     "execution_count": 29,
     "metadata": {},
     "output_type": "execute_result"
    }
   ],
   "source": [
    "cnt = 0\n",
    "for team_bin in team_bins:\n",
    "    for league_bin in league_bins:\n",
    "        if team_bin[0] == league_bin[0] and team_bin[1] == league_bin[1]:\n",
    "            # print(team_bin)\n",
    "            # print(league_bin)\n",
    "            cnt += 1\n",
    "cnt"
   ]
  },
  {
   "cell_type": "code",
   "execution_count": 23,
   "metadata": {},
   "outputs": [
    {
     "data": {
      "text/plain": [
       "(array([-1.42108547e-14, -2.23684211e+00]),\n",
       " array([ 36.00000007, -29.07894737]))"
      ]
     },
     "execution_count": 23,
     "metadata": {},
     "output_type": "execute_result"
    }
   ],
   "source": [
    "league_bins[0], team_bins[0]"
   ]
  },
  {
   "cell_type": "code",
   "execution_count": 61,
   "metadata": {},
   "outputs": [
    {
     "name": "stdout",
     "output_type": "stream",
     "text": [
      "(100, 100)\n",
      "(2, 2000)\n"
     ]
    }
   ],
   "source": [
    "def measure(n):\n",
    "\n",
    "    \"Measurement model, return two coupled measurements.\"\n",
    "\n",
    "    m1 = np.random.normal(size=n)\n",
    "\n",
    "    m2 = np.random.normal(scale=0.5, size=n)\n",
    "\n",
    "    return m1+m2, m1-m2\n",
    "\n",
    "m1, m2 = measure(2000)\n",
    "\n",
    "xmin = m1.min()\n",
    "\n",
    "xmax = m1.max()\n",
    "\n",
    "ymin = m2.min()\n",
    "\n",
    "ymax = m2.max()\n",
    "\n",
    "X, Y = np.mgrid[xmin:xmax:100j, ymin:ymax:100j]\n",
    "print(X.shape)\n",
    "positions = np.vstack([X.ravel(), Y.ravel()])\n",
    "positions[0].shape\n",
    "values = np.vstack([m1, m2])\n",
    "print(values.shape)\n",
    "# kernel = stats.gaussian_kde(values)\n",
    "\n",
    "# Z = np.reshape(kernel(positions).T, X.shape)"
   ]
  },
  {
   "cell_type": "code",
   "execution_count": 48,
   "metadata": {},
   "outputs": [
    {
     "data": {
      "image/png": "[encoded data removed]",
      "text/plain": [
       "<Figure size 432x288 with 1 Axes>"
      ]
     },
     "metadata": {
      "needs_background": "light"
     },
     "output_type": "display_data"
    }
   ],
   "source": [
    "import matplotlib.pyplot as plt\n",
    "\n",
    "fig, ax = plt.subplots()\n",
    "\n",
    "ax.imshow(np.rot90(Z), cmap=plt.cm.gist_earth_r,\n",
    "\n",
    "          extent=[xmin, xmax, ymin, ymax])\n",
    "\n",
    "ax.plot(m1, m2, 'k.', markersize=2)\n",
    "\n",
    "ax.set_xlim([xmin, xmax])\n",
    "\n",
    "ax.set_ylim([ymin, ymax])\n",
    "\n",
    "plt.show()\n"
   ]
  },
  {
   "cell_type": "code",
   "execution_count": null,
   "metadata": {},
   "outputs": [],
   "source": []
  }
 ],
 "metadata": {
  "kernelspec": {
   "display_name": "ift6758-conda-env",
   "language": "python",
   "name": "ift6758-conda-env"
  },
  "language_info": {
   "codemirror_mode": {
    "name": "ipython",
    "version": 3
   },
   "file_extension": ".py",
   "mimetype": "text/x-python",
   "name": "python",
   "nbconvert_exporter": "python",
   "pygments_lexer": "ipython3",
   "version": "3.7.3"
  }
 },
 "nbformat": 4,
 "nbformat_minor": 4
}
