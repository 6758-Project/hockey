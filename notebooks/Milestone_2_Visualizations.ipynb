{
 "cells": [
  {
   "cell_type": "markdown",
   "metadata": {},
   "source": [
    "# Milestone 2 Visualizations"
   ]
  },
  {
   "cell_type": "markdown",
   "metadata": {},
   "source": [
    "## Dependencies"
   ]
  },
  {
   "cell_type": "code",
   "execution_count": null,
   "metadata": {},
   "outputs": [],
   "source": [
    "import os\n",
    "\n",
    "import numpy as np\n",
    "import pandas as pd\n",
    "\n",
    "import matplotlib.pyplot as plt\n",
    "import seaborn as sns\n"
   ]
  },
  {
   "cell_type": "markdown",
   "metadata": {},
   "source": [
    "## Setup"
   ]
  },
  {
   "cell_type": "code",
   "execution_count": null,
   "metadata": {},
   "outputs": [],
   "source": [
    "cd .."
   ]
  },
  {
   "cell_type": "code",
   "execution_count": null,
   "metadata": {},
   "outputs": [],
   "source": [
    "plt.style.use(\"ggplot\")\n"
   ]
  },
  {
   "cell_type": "code",
   "execution_count": null,
   "metadata": {},
   "outputs": [],
   "source": [
    "shots = pd.read_csv(\"./data/processed/train_processed.csv\")\n",
    "\n",
    "# round for plotting purposes\n",
    "shots[\"distance_from_net\"] = shots[\"distance_from_net\"].round()\n",
    "shots[\"angle\"] = shots[\"angle\"].round()\n",
    "\n",
    "shots_normal = shots[\n",
    "    shots[\"coordinate_x\"] >= 25\n",
    "]  # only consider shots within offensive zone (25 = blue line coordinate)\n",
    "shots_normal = shots_normal[~shots_normal[\"is_empty_net\"].fillna(False)]  # remove empty net situations\n",
    "shots_normal = shots_normal[shots_normal[\"period_type\"] != \"SHOOTOUT\"]  # remove shootout situations\n",
    "shots_normal.shape\n"
   ]
  },
  {
   "cell_type": "markdown",
   "metadata": {},
   "source": [
    "## Task 2: Feature Engineering I"
   ]
  },
  {
   "cell_type": "markdown",
   "metadata": {},
   "source": [
    "### Q1: Shot Histograms"
   ]
  },
  {
   "cell_type": "markdown",
   "metadata": {},
   "source": [
    "#### By Distance"
   ]
  },
  {
   "cell_type": "code",
   "execution_count": null,
   "metadata": {},
   "outputs": [],
   "source": [
    "goal_rate_by_distance = shots.groupby([\"distance_from_net\", \"is_goal\"]).size().reset_index()\n",
    "goal_rate_by_distance.columns = [\"distance_from_net\", \"is_goal\", \"Shots\"]\n",
    "goal_rate_by_distance[\"is_goal\"].replace({False: \"No-goal\", True: \"Goal\"}, inplace=True)\n"
   ]
  },
  {
   "cell_type": "code",
   "execution_count": null,
   "metadata": {},
   "outputs": [],
   "source": [
    "fig, ax = plt.subplots(figsize=(20, 6))\n",
    "ax = sns.barplot(\n",
    "    x=\"distance_from_net\", y=\"Shots\", hue=\"is_goal\", data=goal_rate_by_distance, palette=\"pastel\", edgecolor=\".6\", ax=ax\n",
    ")\n",
    "\n",
    "plt.title(\"Goal Distribution by Distance to Net (Training Data)\")\n",
    "for ind, label in enumerate(ax.get_xticklabels()):\n",
    "    if ind % 10 == 0:  # every 10th label is kept\n",
    "        label.set_visible(True)\n",
    "    else:\n",
    "        label.set_visible(False)\n"
   ]
  },
  {
   "cell_type": "markdown",
   "metadata": {},
   "source": [
    "#### By Angle"
   ]
  },
  {
   "cell_type": "code",
   "execution_count": null,
   "metadata": {},
   "outputs": [],
   "source": [
    "goal_rate_by_angle = shots.groupby([\"angle\", \"is_goal\"]).size().reset_index()\n",
    "goal_rate_by_angle.columns = [\"angle\", \"is_goal\", \"Shots\"]\n",
    "goal_rate_by_angle[\"is_goal\"].replace({False: \"No-goal\", True: \"Goal\"}, inplace=True)\n"
   ]
  },
  {
   "cell_type": "code",
   "execution_count": null,
   "metadata": {},
   "outputs": [],
   "source": [
    "fig, ax = plt.subplots(figsize=(12, 6))\n",
    "ax = sns.barplot(x=\"angle\", y=\"Shots\", hue=\"is_goal\", data=goal_rate_by_angle,\n",
    "                 palette=\"pastel\", edgecolor=\".6\", ax=ax)\n",
    "\n",
    "plt.title(\"Goal Distribution by Angle to Net (Training Data)\")\n",
    "for ind, label in enumerate(ax.get_xticklabels()):\n",
    "    if ind % 10 == 0:  # every 10th label is kept\n",
    "        label.set_visible(True)\n",
    "    else:\n",
    "        label.set_visible(False)\n"
   ]
  },
  {
   "cell_type": "markdown",
   "metadata": {},
   "source": [
    "#### Joint-Plot"
   ]
  },
  {
   "cell_type": "code",
   "execution_count": null,
   "metadata": {},
   "outputs": [],
   "source": [
    "shots_by_angle_and_distance = shots.groupby([\"distance_from_net\", \"angle\"]).size().reset_index()\n",
    "shots_by_angle_and_distance.columns = [\"distance_from_net\", \"angle\", \"Shots\"]\n"
   ]
  },
  {
   "cell_type": "code",
   "execution_count": null,
   "metadata": {},
   "outputs": [],
   "source": [
    "# fig, ax = plt.subplots(figsize=(10,10));\n",
    "\n",
    "with sns.axes_style('white'):\n",
    "    ax = sns.jointplot(\n",
    "        x=\"distance_from_net\", y=\"angle\", data=shots_by_angle_and_distance, kind=\"hex\", palette=\"pastel\", edgecolor=\".6\"\n",
    "    )\n",
    "\n",
    "\n",
    "# for ind, label in enumerate(ax.get_xticklabels()):\n",
    "# if ind % 10 == 0:  # every 10th label is kept\n",
    "# label.set_visible(True)\n",
    "# else:\n",
    "# label.set_visible(False)\n"
   ]
  },
  {
   "cell_type": "markdown",
   "metadata": {},
   "source": [
    "### Q2: Goal Rates"
   ]
  },
  {
   "cell_type": "code",
   "execution_count": null,
   "metadata": {},
   "outputs": [],
   "source": [
    "goal_rate_by_distance = shots.groupby(['distance_from_net','is_goal']).size().unstack('is_goal')\n",
    "goal_rate_by_distance['total_shots'] = goal_rate_by_distance.sum(axis=1)\n",
    "goal_rate_by_distance['goal_rate'] = goal_rate_by_distance[True] / goal_rate_by_distance['total_shots']\n",
    "\n",
    "goal_rate_by_distance.rename(columns={False: \"No-goals\", True: \"Goals\"}, inplace=True)\n",
    "goal_rate_by_distance.reset_index(inplace=True)\n",
    "\n",
    "goal_rate_by_distance.columns.name = None\n"
   ]
  },
  {
   "cell_type": "code",
   "execution_count": null,
   "metadata": {},
   "outputs": [],
   "source": [
    "fig, ax = plt.subplots(figsize=(20, 6))\n",
    "ax = sns.barplot(\n",
    "    x=\"distance_from_net\", y=\"goal_rate\", data=goal_rate_by_distance,\n",
    "    color=\"b\", alpha=.33, edgecolor=\".6\", ax=ax\n",
    ")\n",
    "\n",
    "plt.title(\"Goal Rate by Distance to Net (Training Data only)\")\n",
    "for ind, label in enumerate(ax.get_xticklabels()):\n",
    "    if ind % 10 == 0:  # every 10th label is kept\n",
    "        label.set_visible(True)\n",
    "    else:\n",
    "        label.set_visible(False)\n"
   ]
  },
  {
   "cell_type": "code",
   "execution_count": null,
   "metadata": {},
   "outputs": [],
   "source": [
    "goal_rate_by_angle = shots.groupby(['angle','is_goal']).size().unstack('is_goal')\n",
    "goal_rate_by_angle['total_shots'] = goal_rate_by_angle.sum(axis=1)\n",
    "goal_rate_by_angle['goal_rate'] = goal_rate_by_angle[True] / goal_rate_by_angle['total_shots']\n",
    "\n",
    "goal_rate_by_angle.rename(columns={False: \"No-goals\", True: \"Goals\"}, inplace=True)\n",
    "goal_rate_by_angle.reset_index(inplace=True)\n",
    "\n",
    "goal_rate_by_angle.columns.name = None"
   ]
  },
  {
   "cell_type": "code",
   "execution_count": null,
   "metadata": {},
   "outputs": [],
   "source": [
    "fig, ax = plt.subplots(figsize=(12, 6))\n",
    "ax = sns.barplot(\n",
    "    x=\"angle\", y=\"goal_rate\", data=goal_rate_by_angle,\n",
    "    color=\"b\", alpha=.33, edgecolor=\".6\", ax=ax\n",
    ")\n",
    "\n",
    "plt.title(\"Goal Rate by Angle to Net (Training Data only)\")\n",
    "for ind, label in enumerate(ax.get_xticklabels()):\n",
    "    if ind % 10 == 0:  # every 10th label is kept\n",
    "        label.set_visible(True)\n",
    "    else:\n",
    "        label.set_visible(False)\n"
   ]
  },
  {
   "cell_type": "markdown",
   "metadata": {},
   "source": [
    "### Q3: Goal Histograms"
   ]
  },
  {
   "cell_type": "code",
   "execution_count": null,
   "metadata": {},
   "outputs": [],
   "source": [
    "goals_by_distance = shots[shots['is_goal']].groupby(['distance_from_net','is_empty_net']).size().reset_index()\n",
    "goals_by_distance.columns = ['distance_from_net','is_empty_net', 'Goals']"
   ]
  },
  {
   "cell_type": "code",
   "execution_count": null,
   "metadata": {},
   "outputs": [],
   "source": [
    "fig, ax = plt.subplots(figsize=(20, 6))\n",
    "ax = sns.barplot(\n",
    "    x=\"distance_from_net\", y=\"Goals\", hue=\"is_empty_net\", data=goals_by_distance,\n",
    "    palette=\"pastel\", edgecolor=\".6\", ax=ax\n",
    ")\n",
    "\n",
    "plt.title(\"Goal Distribution by Distance (Training Data only)\")\n",
    "for ind, label in enumerate(ax.get_xticklabels()):\n",
    "    if ind % 10 == 0:  # every 10th label is kept\n",
    "        label.set_visible(True)\n",
    "    else:\n",
    "        label.set_visible(False)"
   ]
  },
  {
   "cell_type": "code",
   "execution_count": null,
   "metadata": {},
   "outputs": [],
   "source": [
    "fig, ax = plt.subplots(figsize=(20, 6))\n",
    "ax = sns.barplot(\n",
    "    x=\"distance_from_net\", y=\"Goals\", hue=\"is_empty_net\",\n",
    "    data=goals_by_distance[goals_by_distance['distance_from_net'] > 80],\n",
    "    palette=\"pastel\", edgecolor=\".6\", ax=ax\n",
    ")\n",
    "\n",
    "plt.title(\"Goal Rate by Distribution by Distance to Net (>= 80ft) (Training Data only)\")\n",
    "for ind, label in enumerate(ax.get_xticklabels()):\n",
    "    if ind % 10 == 0:  # every 10th label is kept\n",
    "        label.set_visible(True)\n",
    "    else:\n",
    "        label.set_visible(False)"
   ]
  },
  {
   "cell_type": "markdown",
   "metadata": {},
   "source": [
    "## Q4: Mislabeled Events"
   ]
  },
  {
   "cell_type": "markdown",
   "metadata": {},
   "source": [
    "The majority of the goals returned by the following query are mislabeled.\n",
    "\n",
    "```python\n",
    "shots[(shots.distance_from_net >= 150) & (shots.is_goal) & (~shots.is_empty_net)]\n",
    "```\n",
    "\n",
    "One such example is Adam Cracknell's first period goal on February 21, 2016, against the Colorado Avalanche.\n",
    "\n",
    "It is labeled with x_coordinate , but really occurred at the opposite end, within a few feet of the goal [[nhl.com](https://www.nhl.com/video/cracknell-opens-the-scoring/t-278025682/c-41679503)]"
   ]
  },
  {
   "cell_type": "code",
   "execution_count": 23,
   "metadata": {},
   "outputs": [
    {
     "data": {
      "text/plain": [
       "game_id                                                   2015020888.0\n",
       "event_index                                                       47.0\n",
       "secondary_type                                                Backhand\n",
       "description          Adam Cracknell (5) Backhand, assists: Emerson ...\n",
       "period                                                             1.0\n",
       "period_type                                                    REGULAR\n",
       "time                                                             08:31\n",
       "time_remaining                                                   11:29\n",
       "date                                              2016-02-22T03:21:59Z\n",
       "goals_home                                                         1.0\n",
       "goals_away                                                         0.0\n",
       "shooter_team_code                                                  VAN\n",
       "shooter_id                                                   8471490.0\n",
       "goalie_name                                            Semyon Varlamov\n",
       "goalie_id                                                    8473575.0\n",
       "is_empty_net                                                     False\n",
       "coordinate_x                                                     -75.0\n",
       "coordinate_y                                                      -1.0\n",
       "distance_from_net                                                164.0\n",
       "angle                                                             -0.0\n",
       "is_goal                                                           True\n",
       "Name: 52321, dtype: object"
      ]
     },
     "execution_count": 23,
     "metadata": {},
     "output_type": "execute_result"
    }
   ],
   "source": [
    "shots.loc[52321]"
   ]
  }
 ],
 "metadata": {
  "interpreter": {
   "hash": "31f2aee4e71d21fbe5cf8b01ff0e069b9275f58929596ceb00d14d90e3e16cd6"
  },
  "kernelspec": {
   "display_name": "Python 3.8.10 64-bit",
   "language": "python",
   "name": "python3"
  },
  "language_info": {
   "codemirror_mode": {
    "name": "ipython",
    "version": 3
   },
   "file_extension": ".py",
   "mimetype": "text/x-python",
   "name": "python",
   "nbconvert_exporter": "python",
   "pygments_lexer": "ipython3",
   "version": "3.8.10"
  },
  "orig_nbformat": 4
 },
 "nbformat": 4,
 "nbformat_minor": 2
}
