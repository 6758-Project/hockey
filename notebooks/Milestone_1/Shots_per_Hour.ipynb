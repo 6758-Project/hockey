{
 "cells": [
  {
   "cell_type": "markdown",
   "metadata": {},
   "source": [
    "## Dependencies"
   ]
  },
  {
   "cell_type": "code",
   "execution_count": 1,
   "metadata": {},
   "outputs": [],
   "source": [
    "import os\n",
    "\n",
    "import numpy as np\n",
    "import pandas as pd\n",
    "\n",
    "import matplotlib.pyplot as plt\n",
    "import seaborn as sns"
   ]
  },
  {
   "cell_type": "code",
   "execution_count": 2,
   "metadata": {},
   "outputs": [],
   "source": [
    "cleaned_data_dir = \"./data/cleaned/\""
   ]
  },
  {
   "cell_type": "code",
   "execution_count": 3,
   "metadata": {},
   "outputs": [
    {
     "name": "stdout",
     "output_type": "stream",
     "text": [
      "/home/jake/Projects/mila/6758/hockey\n"
     ]
    }
   ],
   "source": [
    "cd .."
   ]
  },
  {
   "cell_type": "markdown",
   "metadata": {},
   "source": [
    "# Setup Data"
   ]
  },
  {
   "cell_type": "code",
   "execution_count": 4,
   "metadata": {},
   "outputs": [
    {
     "data": {
      "text/plain": [
       "(385076, 29)"
      ]
     },
     "execution_count": 4,
     "metadata": {},
     "output_type": "execute_result"
    }
   ],
   "source": [
    "team_files = os.listdir(cleaned_data_dir)\n",
    "\n",
    "plays = pd.concat([pd.read_csv(os.path.join(cleaned_data_dir, team_file)) for team_file in team_files])\n",
    "plays = plays.drop(\"Unnamed: 0\", axis=1)\n",
    "plays.shape"
   ]
  },
  {
   "cell_type": "code",
   "execution_count": 5,
   "metadata": {},
   "outputs": [],
   "source": [
    "# plays_full = plays.copy()\n",
    "# plays = plays.sample(2000)  # TODO delete"
   ]
  },
  {
   "cell_type": "code",
   "execution_count": 6,
   "metadata": {},
   "outputs": [],
   "source": [
    "plays['season'] = plays['game_id'].apply(lambda gid: int(str(gid)[:4]))\n",
    "plays['subseason'] = plays['game_id'].apply(lambda gid: int(str(gid)[4:6])).replace({2: 'regular', 3: 'playoffs'})"
   ]
  },
  {
   "cell_type": "code",
   "execution_count": 7,
   "metadata": {},
   "outputs": [],
   "source": [
    "plays = plays.rename({'shooter_team_name': 'team'}, axis=1)"
   ]
  },
  {
   "cell_type": "code",
   "execution_count": 8,
   "metadata": {},
   "outputs": [],
   "source": [
    "plays = plays[plays['coordinate_x'] >= 25]  # only consider shots in offensive zone"
   ]
  },
  {
   "cell_type": "markdown",
   "metadata": {},
   "source": [
    "## Calculate Game Length"
   ]
  },
  {
   "cell_type": "code",
   "execution_count": 9,
   "metadata": {},
   "outputs": [],
   "source": [
    "def game_length(events):\n",
    "    \"\"\" Calculate game length from events \"\"\"\n",
    "    last_event = events.sort_values('event_index', ascending=False).iloc[0]\n",
    "    time = last_event['time']\n",
    "    last_period = last_event['period']\n",
    "\n",
    "    time_in_minutes = int(time[:2]) + int(time[3:])/60\n",
    "    game_length = 60 if last_period <= 3 else (last_period-1)*20 + time_in_minutes\n",
    "    return game_length"
   ]
  },
  {
   "cell_type": "code",
   "execution_count": 10,
   "metadata": {},
   "outputs": [],
   "source": [
    "team_game_lengths = plays.groupby(['team','season','subseason','game_id']).apply(game_length)"
   ]
  },
  {
   "cell_type": "code",
   "execution_count": 11,
   "metadata": {},
   "outputs": [
    {
     "data": {
      "text/plain": [
       "count    12300.000000\n",
       "mean        61.819935\n",
       "std          5.516194\n",
       "min         60.000000\n",
       "50%         60.000000\n",
       "90%         63.618333\n",
       "95%         80.000000\n",
       "99%         80.000000\n",
       "max        150.450000\n",
       "dtype: float64"
      ]
     },
     "execution_count": 11,
     "metadata": {},
     "output_type": "execute_result"
    }
   ],
   "source": [
    "team_game_lengths.describe(percentiles=[.9,.95,.99])"
   ]
  },
  {
   "cell_type": "code",
   "execution_count": 12,
   "metadata": {},
   "outputs": [],
   "source": [
    "team_minutes = team_game_lengths.groupby(['team','season','subseason']).sum()\n",
    "team_minutes.name = 'Minutes'"
   ]
  },
  {
   "cell_type": "markdown",
   "metadata": {},
   "source": [
    "## Shots per Hour"
   ]
  },
  {
   "cell_type": "code",
   "execution_count": 60,
   "metadata": {},
   "outputs": [
    {
     "data": {
      "text/plain": [
       "(262855, 1)"
      ]
     },
     "execution_count": 60,
     "metadata": {},
     "output_type": "execute_result"
    }
   ],
   "source": [
    "team_shots = plays.groupby(['team','season','subseason','coordinate_x','coordinate_y']).size()\n",
    "team_shots.name = 'Shots'\n",
    "team_shots = pd.DataFrame(team_shots)\n",
    "team_shots.shape"
   ]
  },
  {
   "cell_type": "code",
   "execution_count": 82,
   "metadata": {},
   "outputs": [
    {
     "data": {
      "text/plain": [
       "(1791636, 3)"
      ]
     },
     "execution_count": 82,
     "metadata": {},
     "output_type": "execute_result"
    }
   ],
   "source": [
    "team_shots_per_hour = team_shots.join(team_minutes)\n",
    "team_shots_per_hour['shots_per_hour'] = team_shots_per_hour['Shots'] / \\\n",
    "                                        (team_shots_per_hour['Minutes'] / 60)\n",
    "team_shots_per_hour.shape"
   ]
  },
  {
   "cell_type": "code",
   "execution_count": 83,
   "metadata": {},
   "outputs": [
    {
     "data": {
      "text/plain": [
       "(58170, 1)"
      ]
     },
     "execution_count": 83,
     "metadata": {},
     "output_type": "execute_result"
    }
   ],
   "source": [
    "league_shots = team_shots_per_hour.groupby(team_shots_per_hour.index.names[1:])[['Shots']].sum()\n",
    "league_minutes = team_minutes.groupby(team_minutes.index.names[1:]).sum()\n",
    "\n",
    "league_shots_per_hour = league_shots.join(league_minutes)\n",
    "\n",
    "league_shots_per_hour['league_shots_per_hour'] = league_shots_per_hour['Shots'] / \\\n",
    "                                                 (league_shots_per_hour['Minutes'] / 60)\n",
    "league_shots_per_hour = league_shots_per_hour[['league_shots_per_hour']]  # drop other columns\n",
    "\n",
    "league_shots_per_hour.shape"
   ]
  },
  {
   "cell_type": "code",
   "execution_count": 84,
   "metadata": {},
   "outputs": [
    {
     "data": {
      "text/plain": [
       "(1791636, 3)"
      ]
     },
     "execution_count": 84,
     "metadata": {},
     "output_type": "execute_result"
    }
   ],
   "source": [
    "teams = plays[['team','season']].drop_duplicates().sort_values(['team','season'])\n",
    "subseason = pd.DataFrame({'subseason': ['regular', 'playoffs']})\n",
    "coordinates = league_shots_per_hour.reset_index()[['coordinate_x', 'coordinate_y']].drop_duplicates()\n",
    "\n",
    "team_shots_spine = teams.merge(subseason, how='cross')\\\n",
    "                        .merge(coordinates, how='cross')\n",
    "\n",
    "assert team_shots_spine.shape[0] == len(teams) * len(subseason) * len(coordinates)\n",
    "\n",
    "team_shots_spine = team_shots_spine.set_index(['team','season','subseason','coordinate_x','coordinate_y'])\n",
    "team_shots_per_hour = team_shots_spine.join(team_shots_per_hour, how='left').fillna(0)\n",
    "team_shots_per_hour.shape  # (1791636, 1)"
   ]
  },
  {
   "cell_type": "code",
   "execution_count": 85,
   "metadata": {},
   "outputs": [],
   "source": [
    "team_shots_per_hour = \\\n",
    "    team_shots_per_hour.join(\n",
    "        league_shots_per_hour, on=league_shots_per_hour.index.names\n",
    "    )"
   ]
  },
  {
   "cell_type": "code",
   "execution_count": 32,
   "metadata": {},
   "outputs": [],
   "source": [
    "# TODO: not correct\n",
    "# team_shots_per_hour['x_bin'] = team_shots_per_hour.index\n",
    "# def round_to_nearest_x(arr,x,offset):\n",
    "#      res = x * ((arr-offset) // x) + offset\n",
    "#      res = res + (x-1)/2 # if x%2 == 1 else res + x/2  # make coordinate in middle\n",
    "#      return res\n",
    "\n",
    "# team_shots_per_hour['x_bin'] = round_to_nearest_x(team_shots_per_hour.index.get_level_values('coordinate_x'), 1, 0)\n",
    "# team_shots_per_hour['x_bin'].replace({101: 100}, inplace = True)  # smooth edge to original value\n",
    "# # team_shots_per_hour.loc[team_shots_per_hour['x_bin'] == -43, 'x_bin'] = -42  \n",
    "# team_shots_per_hour['y_bin'] = round_to_nearest_x(team_shots_per_hour.index.get_level_values('coordinate_y'), 1, 0)\n",
    "# team_shots_per_hour['y_bin'].replace({-43: -42}, inplace = True)  # smooth edge to original value"
   ]
  },
  {
   "cell_type": "code",
   "execution_count": 34,
   "metadata": {},
   "outputs": [],
   "source": [
    "# team_shots_per_hour_binned = \\\n",
    "#     team_shots_per_hour.reset_index().groupby(['team', 'season', 'subseason', 'x_bin','y_bin'])\\\n",
    "#         [['shots_per_hour', 'league_shots_per_hour']].sum()"
   ]
  },
  {
   "cell_type": "code",
   "execution_count": 88,
   "metadata": {},
   "outputs": [],
   "source": [
    "team_shots_per_hour_binned = team_shots_per_hour"
   ]
  },
  {
   "cell_type": "code",
   "execution_count": 89,
   "metadata": {},
   "outputs": [],
   "source": [
    "team_shots_per_hour_binned['relative_shots_per_hour'] = \\\n",
    "    team_shots_per_hour_binned['shots_per_hour'] - team_shots_per_hour_binned['league_shots_per_hour']"
   ]
  },
  {
   "cell_type": "code",
   "execution_count": null,
   "metadata": {},
   "outputs": [],
   "source": [
    "os.makedirs(\"./data/advanced_viz/\", exist_ok=True)"
   ]
  },
  {
   "cell_type": "code",
   "execution_count": 91,
   "metadata": {},
   "outputs": [],
   "source": [
    "team_shots_per_hour_binned.to_csv(\"./data/advanced_viz/shots_per_hour.csv\")"
   ]
  },
  {
   "cell_type": "markdown",
   "metadata": {},
   "source": [
    "## Checks"
   ]
  },
  {
   "cell_type": "code",
   "execution_count": 92,
   "metadata": {},
   "outputs": [
    {
     "name": "stderr",
     "output_type": "stream",
     "text": [
      "/tmp/ipykernel_760089/9651229.py:1: PerformanceWarning: indexing past lexsort depth may impact performance.\n",
      "  ducks = team_shots_per_hour_binned.loc[('Anaheim Ducks', 2016, 'regular')]\n"
     ]
    },
    {
     "data": {
      "text/html": [
       "<div>\n",
       "<style scoped>\n",
       "    .dataframe tbody tr th:only-of-type {\n",
       "        vertical-align: middle;\n",
       "    }\n",
       "\n",
       "    .dataframe tbody tr th {\n",
       "        vertical-align: top;\n",
       "    }\n",
       "\n",
       "    .dataframe thead th {\n",
       "        text-align: right;\n",
       "    }\n",
       "</style>\n",
       "<table border=\"1\" class=\"dataframe\">\n",
       "  <thead>\n",
       "    <tr style=\"text-align: right;\">\n",
       "      <th></th>\n",
       "      <th></th>\n",
       "      <th>Shots</th>\n",
       "      <th>Minutes</th>\n",
       "      <th>shots_per_hour</th>\n",
       "      <th>league_shots_per_hour</th>\n",
       "      <th>relative_shots_per_hour</th>\n",
       "    </tr>\n",
       "    <tr>\n",
       "      <th>coordinate_x</th>\n",
       "      <th>coordinate_y</th>\n",
       "      <th></th>\n",
       "      <th></th>\n",
       "      <th></th>\n",
       "      <th></th>\n",
       "      <th></th>\n",
       "    </tr>\n",
       "  </thead>\n",
       "  <tbody>\n",
       "    <tr>\n",
       "      <th rowspan=\"5\" valign=\"top\">25.0</th>\n",
       "      <th>-40.0</th>\n",
       "      <td>0.0</td>\n",
       "      <td>5052.3</td>\n",
       "      <td>0.000000</td>\n",
       "      <td>0.000000</td>\n",
       "      <td>0.000000</td>\n",
       "    </tr>\n",
       "    <tr>\n",
       "      <th>-38.0</th>\n",
       "      <td>1.0</td>\n",
       "      <td>5052.3</td>\n",
       "      <td>0.011876</td>\n",
       "      <td>0.000394</td>\n",
       "      <td>0.011481</td>\n",
       "    </tr>\n",
       "    <tr>\n",
       "      <th>-37.0</th>\n",
       "      <td>0.0</td>\n",
       "      <td>5052.3</td>\n",
       "      <td>0.000000</td>\n",
       "      <td>0.000789</td>\n",
       "      <td>-0.000789</td>\n",
       "    </tr>\n",
       "    <tr>\n",
       "      <th>-36.0</th>\n",
       "      <td>0.0</td>\n",
       "      <td>5052.3</td>\n",
       "      <td>0.000000</td>\n",
       "      <td>0.000394</td>\n",
       "      <td>-0.000394</td>\n",
       "    </tr>\n",
       "    <tr>\n",
       "      <th>-35.0</th>\n",
       "      <td>0.0</td>\n",
       "      <td>5052.3</td>\n",
       "      <td>0.000000</td>\n",
       "      <td>0.000394</td>\n",
       "      <td>-0.000394</td>\n",
       "    </tr>\n",
       "    <tr>\n",
       "      <th>...</th>\n",
       "      <th>...</th>\n",
       "      <td>...</td>\n",
       "      <td>...</td>\n",
       "      <td>...</td>\n",
       "      <td>...</td>\n",
       "      <td>...</td>\n",
       "    </tr>\n",
       "    <tr>\n",
       "      <th rowspan=\"5\" valign=\"top\">99.0</th>\n",
       "      <th>-13.0</th>\n",
       "      <td>0.0</td>\n",
       "      <td>5052.3</td>\n",
       "      <td>0.000000</td>\n",
       "      <td>0.000000</td>\n",
       "      <td>0.000000</td>\n",
       "    </tr>\n",
       "    <tr>\n",
       "      <th>-10.0</th>\n",
       "      <td>0.0</td>\n",
       "      <td>5052.3</td>\n",
       "      <td>0.000000</td>\n",
       "      <td>0.000000</td>\n",
       "      <td>0.000000</td>\n",
       "    </tr>\n",
       "    <tr>\n",
       "      <th>10.0</th>\n",
       "      <td>0.0</td>\n",
       "      <td>5052.3</td>\n",
       "      <td>0.000000</td>\n",
       "      <td>0.000000</td>\n",
       "      <td>0.000000</td>\n",
       "    </tr>\n",
       "    <tr>\n",
       "      <th>11.0</th>\n",
       "      <td>0.0</td>\n",
       "      <td>5052.3</td>\n",
       "      <td>0.000000</td>\n",
       "      <td>0.000000</td>\n",
       "      <td>0.000000</td>\n",
       "    </tr>\n",
       "    <tr>\n",
       "      <th>13.0</th>\n",
       "      <td>0.0</td>\n",
       "      <td>5052.3</td>\n",
       "      <td>0.000000</td>\n",
       "      <td>0.000000</td>\n",
       "      <td>0.000000</td>\n",
       "    </tr>\n",
       "  </tbody>\n",
       "</table>\n",
       "<p>5817 rows × 5 columns</p>\n",
       "</div>"
      ],
      "text/plain": [
       "                           Shots  Minutes  shots_per_hour  \\\n",
       "coordinate_x coordinate_y                                   \n",
       "25.0         -40.0           0.0   5052.3        0.000000   \n",
       "             -38.0           1.0   5052.3        0.011876   \n",
       "             -37.0           0.0   5052.3        0.000000   \n",
       "             -36.0           0.0   5052.3        0.000000   \n",
       "             -35.0           0.0   5052.3        0.000000   \n",
       "...                          ...      ...             ...   \n",
       "99.0         -13.0           0.0   5052.3        0.000000   \n",
       "             -10.0           0.0   5052.3        0.000000   \n",
       "              10.0           0.0   5052.3        0.000000   \n",
       "              11.0           0.0   5052.3        0.000000   \n",
       "              13.0           0.0   5052.3        0.000000   \n",
       "\n",
       "                           league_shots_per_hour  relative_shots_per_hour  \n",
       "coordinate_x coordinate_y                                                  \n",
       "25.0         -40.0                      0.000000                 0.000000  \n",
       "             -38.0                      0.000394                 0.011481  \n",
       "             -37.0                      0.000789                -0.000789  \n",
       "             -36.0                      0.000394                -0.000394  \n",
       "             -35.0                      0.000394                -0.000394  \n",
       "...                                          ...                      ...  \n",
       "99.0         -13.0                      0.000000                 0.000000  \n",
       "             -10.0                      0.000000                 0.000000  \n",
       "              10.0                      0.000000                 0.000000  \n",
       "              11.0                      0.000000                 0.000000  \n",
       "              13.0                      0.000000                 0.000000  \n",
       "\n",
       "[5817 rows x 5 columns]"
      ]
     },
     "execution_count": 92,
     "metadata": {},
     "output_type": "execute_result"
    }
   ],
   "source": [
    "ducks = team_shots_per_hour_binned.loc[('Anaheim Ducks', 2016, 'regular')]\n",
    "ducks"
   ]
  },
  {
   "cell_type": "code",
   "execution_count": 93,
   "metadata": {},
   "outputs": [],
   "source": [
    "sns.set(rc={'figure.figsize':(10,6)})"
   ]
  },
  {
   "cell_type": "code",
   "execution_count": 94,
   "metadata": {},
   "outputs": [
    {
     "data": {
      "text/plain": [
       "<AxesSubplot:xlabel='coordinate_x', ylabel='coordinate_y'>"
      ]
     },
     "execution_count": 94,
     "metadata": {},
     "output_type": "execute_result"
    },
    {
     "data": {
      "image/png": "[encoded data removed]",
      "text/plain": [
       "<Figure size 720x432 with 1 Axes>"
      ]
     },
     "metadata": {},
     "output_type": "display_data"
    }
   ],
   "source": [
    "sns.kdeplot(\n",
    "    data=ducks[['shots_per_hour']].reset_index(), x=\"coordinate_x\", y=\"coordinate_y\", fill=True,\n",
    ")"
   ]
  },
  {
   "cell_type": "code",
   "execution_count": 45,
   "metadata": {},
   "outputs": [
    {
     "data": {
      "text/plain": [
       "<AxesSubplot:xlabel='coordinate_x', ylabel='coordinate_y'>"
      ]
     },
     "execution_count": 45,
     "metadata": {},
     "output_type": "execute_result"
    },
    {
     "data": {
      "image/png": "[encoded data removed]",
      "text/plain": [
       "<Figure size 720x432 with 1 Axes>"
      ]
     },
     "metadata": {},
     "output_type": "display_data"
    }
   ],
   "source": [
    "sns.kdeplot(\n",
    "    data=ducks[['league_shots_per_hour']].reset_index(), x=\"coordinate_x\", y=\"coordinate_y\", fill=True,\n",
    ")"
   ]
  },
  {
   "cell_type": "code",
   "execution_count": 96,
   "metadata": {},
   "outputs": [
    {
     "data": {
      "text/html": [
       "<div>\n",
       "<style scoped>\n",
       "    .dataframe tbody tr th:only-of-type {\n",
       "        vertical-align: middle;\n",
       "    }\n",
       "\n",
       "    .dataframe tbody tr th {\n",
       "        vertical-align: top;\n",
       "    }\n",
       "\n",
       "    .dataframe thead th {\n",
       "        text-align: right;\n",
       "    }\n",
       "</style>\n",
       "<table border=\"1\" class=\"dataframe\">\n",
       "  <thead>\n",
       "    <tr style=\"text-align: right;\">\n",
       "      <th></th>\n",
       "      <th>shots_per_hour</th>\n",
       "      <th>league_shots_per_hour</th>\n",
       "      <th>relative_shots_per_hour</th>\n",
       "    </tr>\n",
       "  </thead>\n",
       "  <tbody>\n",
       "    <tr>\n",
       "      <th>count</th>\n",
       "      <td>1.791636e+06</td>\n",
       "      <td>1.791636e+06</td>\n",
       "      <td>1.791636e+06</td>\n",
       "    </tr>\n",
       "    <tr>\n",
       "      <th>mean</th>\n",
       "      <td>3.745679e-03</td>\n",
       "      <td>4.912195e-03</td>\n",
       "      <td>-1.166516e-03</td>\n",
       "    </tr>\n",
       "    <tr>\n",
       "      <th>std</th>\n",
       "      <td>1.482933e-02</td>\n",
       "      <td>6.805278e-03</td>\n",
       "      <td>1.418330e-02</td>\n",
       "    </tr>\n",
       "    <tr>\n",
       "      <th>min</th>\n",
       "      <td>0.000000e+00</td>\n",
       "      <td>0.000000e+00</td>\n",
       "      <td>-1.189046e-01</td>\n",
       "    </tr>\n",
       "    <tr>\n",
       "      <th>25%</th>\n",
       "      <td>0.000000e+00</td>\n",
       "      <td>0.000000e+00</td>\n",
       "      <td>-5.552531e-03</td>\n",
       "    </tr>\n",
       "    <tr>\n",
       "      <th>50%</th>\n",
       "      <td>0.000000e+00</td>\n",
       "      <td>3.450613e-03</td>\n",
       "      <td>-7.668029e-04</td>\n",
       "    </tr>\n",
       "    <tr>\n",
       "      <th>75%</th>\n",
       "      <td>0.000000e+00</td>\n",
       "      <td>6.109496e-03</td>\n",
       "      <td>0.000000e+00</td>\n",
       "    </tr>\n",
       "    <tr>\n",
       "      <th>max</th>\n",
       "      <td>6.153496e-01</td>\n",
       "      <td>1.189046e-01</td>\n",
       "      <td>5.587283e-01</td>\n",
       "    </tr>\n",
       "  </tbody>\n",
       "</table>\n",
       "</div>"
      ],
      "text/plain": [
       "       shots_per_hour  league_shots_per_hour  relative_shots_per_hour\n",
       "count    1.791636e+06           1.791636e+06             1.791636e+06\n",
       "mean     3.745679e-03           4.912195e-03            -1.166516e-03\n",
       "std      1.482933e-02           6.805278e-03             1.418330e-02\n",
       "min      0.000000e+00           0.000000e+00            -1.189046e-01\n",
       "25%      0.000000e+00           0.000000e+00            -5.552531e-03\n",
       "50%      0.000000e+00           3.450613e-03            -7.668029e-04\n",
       "75%      0.000000e+00           6.109496e-03             0.000000e+00\n",
       "max      6.153496e-01           1.189046e-01             5.587283e-01"
      ]
     },
     "execution_count": 96,
     "metadata": {},
     "output_type": "execute_result"
    }
   ],
   "source": [
    "team_shots_per_hour_binned[['shots_per_hour', 'league_shots_per_hour', 'relative_shots_per_hour']].describe()"
   ]
  },
  {
   "cell_type": "code",
   "execution_count": 95,
   "metadata": {},
   "outputs": [
    {
     "data": {
      "text/plain": [
       "<AxesSubplot:xlabel='coordinate_x', ylabel='coordinate_y'>"
      ]
     },
     "execution_count": 95,
     "metadata": {},
     "output_type": "execute_result"
    },
    {
     "data": {
      "image/png": "[encoded data removed]",
      "text/plain": [
       "<Figure size 720x432 with 1 Axes>"
      ]
     },
     "metadata": {},
     "output_type": "display_data"
    }
   ],
   "source": [
    "sns.kdeplot(\n",
    "    data=ducks[['relative_shots_per_hour']].reset_index(), x=\"coordinate_x\", y=\"coordinate_y\", fill=True,\n",
    ")"
   ]
  }
 ],
 "metadata": {
  "interpreter": {
   "hash": "9458e4c2a045d659c76b210fb79a205bf96c8302ffa2a55b8d778519b889c5e1"
  },
  "kernelspec": {
   "display_name": "Python 3.9.7 64-bit ('ift6758-conda-env': conda)",
   "name": "python3"
  },
  "language_info": {
   "codemirror_mode": {
    "name": "ipython",
    "version": 3
   },
   "file_extension": ".py",
   "mimetype": "text/x-python",
   "name": "python",
   "nbconvert_exporter": "python",
   "pygments_lexer": "ipython3",
   "version": "3.9.7"
  },
  "orig_nbformat": 4
 },
 "nbformat": 4,
 "nbformat_minor": 2
}
